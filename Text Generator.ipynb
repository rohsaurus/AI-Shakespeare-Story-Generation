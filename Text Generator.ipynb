{
 "cells": [
  {
   "cell_type": "code",
   "execution_count": 1,
   "id": "cd9e966d",
   "metadata": {
    "ExecuteTime": {
     "end_time": "2022-06-13T03:09:00.258010Z",
     "start_time": "2022-06-13T03:08:53.239361Z"
    }
   },
   "outputs": [],
   "source": [
    "import tensorflow.keras\n",
    "\n",
    "from tensorflow.keras.models import Sequential\n",
    "from tensorflow.keras.models import load_model\n",
    "from tensorflow.keras.layers import Dense\n",
    "from tensorflow.keras.layers import Embedding\n",
    "from tensorflow.keras.layers import LSTM\n",
    "from tensorflow.keras.layers import Dropout\n",
    "from tensorflow.keras.layers import InputLayer\n",
    "from tensorflow.keras.layers import BatchNormalization\n",
    "\n",
    "from tensorflow.keras.optimizers import Adam\n",
    "\n",
    "from tensorflow.keras.utils import to_categorical\n",
    "\n",
    "import numpy as np\n",
    "import nltk\n",
    "from nltk.tokenize import RegexpTokenizer\n",
    "import matplotlib.pyplot as plt\n",
    "import random\n",
    "\n",
    "from tqdm.notebook import tqdm as log_progress"
   ]
  },
  {
   "cell_type": "code",
   "execution_count": 5,
   "id": "6d8fb133",
   "metadata": {
    "ExecuteTime": {
     "end_time": "2022-06-13T03:12:37.012797Z",
     "start_time": "2022-06-13T03:12:36.212298Z"
    }
   },
   "outputs": [
    {
     "name": "stdout",
     "output_type": "stream",
     "text": [
      "Loading data...\n"
     ]
    },
    {
     "data": {
      "application/vnd.jupyter.widget-view+json": {
       "model_id": "78c0134f79834669ad5fbf1b0515b5b5",
       "version_major": 2,
       "version_minor": 0
      },
      "text/plain": [
       "0it [00:00, ?it/s]"
      ]
     },
     "metadata": {},
     "output_type": "display_data"
    },
    {
     "name": "stdout",
     "output_type": "stream",
     "text": [
      "Tokenizing...\n"
     ]
    },
    {
     "data": {
      "application/vnd.jupyter.widget-view+json": {
       "model_id": "68f5066c50a34287ac9e0e09bd9daf3c",
       "version_major": 2,
       "version_minor": 0
      },
      "text/plain": [
       "  0%|          | 0/2309 [00:00<?, ?it/s]"
      ]
     },
     "metadata": {},
     "output_type": "display_data"
    },
    {
     "name": "stdout",
     "output_type": "stream",
     "text": [
      "Finding every unique word...\n"
     ]
    },
    {
     "data": {
      "application/vnd.jupyter.widget-view+json": {
       "model_id": "4f545f2648804570bcf25de87972e39e",
       "version_major": 2,
       "version_minor": 0
      },
      "text/plain": [
       "  0%|          | 0/99920 [00:00<?, ?it/s]"
      ]
     },
     "metadata": {},
     "output_type": "display_data"
    },
    {
     "name": "stdout",
     "output_type": "stream",
     "text": [
      "Compiling dataset...\n"
     ]
    },
    {
     "data": {
      "application/vnd.jupyter.widget-view+json": {
       "model_id": "31a6334bc7354b5a9e5e95fb4d2f658c",
       "version_major": 2,
       "version_minor": 0
      },
      "text/plain": [
       "  0%|          | 0/99913 [00:00<?, ?it/s]"
      ]
     },
     "metadata": {},
     "output_type": "display_data"
    },
    {
     "name": "stdout",
     "output_type": "stream",
     "text": [
      "(99913, 1, 7)\n",
      "(99913, 38)\n"
     ]
    }
   ],
   "source": [
    "#load and clean data\n",
    "MODEL_NAME = \"Test\"\n",
    "#MODEL_NAME = 'shakespear2.0'\n",
    "data_file_name = \"data.txt\"\n",
    "SEQUENCE_LENGTH = 7 #how many items are fed into the ai per sequence\n",
    "\n",
    "raw = open(\"data/\" + data_file_name, \"r\", encoding='utf-8')\n",
    "\n",
    "lines = []\n",
    "print(\"Loading data...\")\n",
    "for line in log_progress(raw):\n",
    "    if str(line) != '\\n':\n",
    "        lines.append(str(line).lower())\n",
    "\n",
    "print(\"Tokenizing...\")\n",
    "#putting the entirety of the input data into one string\n",
    "text = \"\"\n",
    "for line in log_progress(lines):\n",
    "    text += line\n",
    "tokenizer = RegexpTokenizer(r'[a-zA-Z]')\n",
    "#tokenizer = RegexpTokenizer(r'\\w+')\n",
    "#tokenized = tokenizer.tokenize(text)\n",
    "tokenized = [item for item in text]\n",
    "\n",
    "#converting the text into numbers to be processed by the embedding layer of the model\n",
    "words = [] #one of each word in tokenized will be in here\n",
    "filtering = lambda x : not x in words #for finding if the word should be added to the words array\n",
    "find = lambda x : float(words.index(x)) if x in words else float(len(words)) #convert each word into a number. -1 means that the item isn't in the vocabulary\n",
    "normalize = lambda x: [find(i)/len(words) for i in x]\n",
    "\n",
    "print(\"Finding every unique word...\")\n",
    "for word in log_progress(tokenized):\n",
    "    if filtering(word):\n",
    "        words.append(word)\n",
    "\n",
    "#x data is every single word in the data set, in order\n",
    "#y data is every single word that comes after the corresponding x value\n",
    "x = []\n",
    "y = []\n",
    "charX = []\n",
    "charY = []\n",
    "print(\"Compiling dataset...\")\n",
    "counter = 0\n",
    "for i in log_progress(range(int(len(tokenized) - SEQUENCE_LENGTH))):\n",
    "    x.append(normalize(tokenized[i:i+SEQUENCE_LENGTH]))\n",
    "    y.append(find(tokenized[i+SEQUENCE_LENGTH]))\n",
    "\n",
    "x = np.asarray(x, np.float32)\n",
    "y = np.asarray(y, np.int32)\n",
    "\n",
    "x = np.reshape(x, (x.shape[0], 1, SEQUENCE_LENGTH))\n",
    "y = to_categorical(y)\n",
    "\n",
    "print(x.shape)\n",
    "print(y.shape)\n",
    "\n",
    "vocab_size = len(words)"
   ]
  },
  {
   "cell_type": "code",
   "execution_count": 16,
   "id": "a91298ab",
   "metadata": {
    "ExecuteTime": {
     "end_time": "2022-06-13T04:02:58.049944Z",
     "start_time": "2022-06-13T04:02:57.674081Z"
    }
   },
   "outputs": [
    {
     "name": "stdout",
     "output_type": "stream",
     "text": [
      "Model: \"sequential_4\"\n",
      "_________________________________________________________________\n",
      " Layer (type)                Output Shape              Param #   \n",
      "=================================================================\n",
      " lstm_8 (LSTM)               (None, 1, 256)            270336    \n",
      "                                                                 \n",
      " dropout_8 (Dropout)         (None, 1, 256)            0         \n",
      "                                                                 \n",
      " lstm_9 (LSTM)               (None, 128)               197120    \n",
      "                                                                 \n",
      " dropout_9 (Dropout)         (None, 128)               0         \n",
      "                                                                 \n",
      " dense_4 (Dense)             (None, 38)                4902      \n",
      "                                                                 \n",
      "=================================================================\n",
      "Total params: 472,358\n",
      "Trainable params: 472,358\n",
      "Non-trainable params: 0\n",
      "_________________________________________________________________\n",
      "None\n"
     ]
    }
   ],
   "source": [
    "#create and compile model\n",
    "model = Sequential()\n",
    "\n",
    "#model.add(Embedding(vocab_size+1, 32, input_length=SEQUENCE_LENGTH)) #embedding: size of vocabulary, dimension of each value\n",
    "model.add(LSTM(256, input_shape=(1, SEQUENCE_LENGTH), return_sequences=True))\n",
    "model.add(Dropout(0.2))\n",
    "model.add(LSTM(128))\n",
    "model.add(Dropout(0.2))\n",
    "model.add(Dense(y.shape[1], activation='softmax'))\n",
    "\n",
    "opt = Adam(learning_rate=0.01)\n",
    "model.compile(optimizer=opt, loss='categorical_crossentropy', metrics=['accuracy'])\n",
    "print(model.summary())"
   ]
  },
  {
   "cell_type": "code",
   "execution_count": 17,
   "id": "3f438c67",
   "metadata": {
    "ExecuteTime": {
     "end_time": "2022-06-13T04:19:50.629155Z",
     "start_time": "2022-06-13T04:02:59.622075Z"
    }
   },
   "outputs": [
    {
     "name": "stdout",
     "output_type": "stream",
     "text": [
      "Epoch 1/50\n",
      "2967/2967 [==============================] - 25s 8ms/step - loss: 2.5631 - accuracy: 0.2845 - val_loss: 2.3584 - val_accuracy: 0.3265\n",
      "Epoch 2/50\n",
      "2967/2967 [==============================] - 21s 7ms/step - loss: 2.3485 - accuracy: 0.3296 - val_loss: 2.2489 - val_accuracy: 0.3451\n",
      "Epoch 3/50\n",
      "2967/2967 [==============================] - 20s 7ms/step - loss: 2.2602 - accuracy: 0.3458 - val_loss: 2.1648 - val_accuracy: 0.3659\n",
      "Epoch 4/50\n",
      "2967/2967 [==============================] - 20s 7ms/step - loss: 2.2069 - accuracy: 0.3578 - val_loss: 2.1533 - val_accuracy: 0.3703\n",
      "Epoch 5/50\n",
      "2967/2967 [==============================] - 20s 7ms/step - loss: 2.1643 - accuracy: 0.3667 - val_loss: 2.1014 - val_accuracy: 0.3785\n",
      "Epoch 6/50\n",
      "2967/2967 [==============================] - 20s 7ms/step - loss: 2.1430 - accuracy: 0.3713 - val_loss: 2.0801 - val_accuracy: 0.3927\n",
      "Epoch 7/50\n",
      "2967/2967 [==============================] - 20s 7ms/step - loss: 2.1196 - accuracy: 0.3765 - val_loss: 2.0500 - val_accuracy: 0.3975\n",
      "Epoch 8/50\n",
      "2967/2967 [==============================] - 20s 7ms/step - loss: 2.0990 - accuracy: 0.3811 - val_loss: 2.0466 - val_accuracy: 0.4001\n",
      "Epoch 9/50\n",
      "2967/2967 [==============================] - 20s 7ms/step - loss: 2.0850 - accuracy: 0.3862 - val_loss: 2.0342 - val_accuracy: 0.4063\n",
      "Epoch 10/50\n",
      "2967/2967 [==============================] - 20s 7ms/step - loss: 2.0649 - accuracy: 0.3905 - val_loss: 2.0088 - val_accuracy: 0.4027\n",
      "Epoch 11/50\n",
      "2967/2967 [==============================] - 20s 7ms/step - loss: 2.0525 - accuracy: 0.3930 - val_loss: 1.9912 - val_accuracy: 0.4159\n",
      "Epoch 12/50\n",
      "2967/2967 [==============================] - 20s 7ms/step - loss: 2.0364 - accuracy: 0.3974 - val_loss: 1.9803 - val_accuracy: 0.4087\n",
      "Epoch 13/50\n",
      "2967/2967 [==============================] - 20s 7ms/step - loss: 2.0247 - accuracy: 0.3995 - val_loss: 1.9943 - val_accuracy: 0.4045\n",
      "Epoch 14/50\n",
      "2967/2967 [==============================] - 20s 7ms/step - loss: 2.0104 - accuracy: 0.4030 - val_loss: 1.9679 - val_accuracy: 0.4237\n",
      "Epoch 15/50\n",
      "2967/2967 [==============================] - 20s 7ms/step - loss: 1.9994 - accuracy: 0.4053 - val_loss: 1.9554 - val_accuracy: 0.4235\n",
      "Epoch 16/50\n",
      "2967/2967 [==============================] - 20s 7ms/step - loss: 1.9950 - accuracy: 0.4073 - val_loss: 1.9640 - val_accuracy: 0.4161\n",
      "Epoch 17/50\n",
      "2967/2967 [==============================] - 20s 7ms/step - loss: 1.9836 - accuracy: 0.4105 - val_loss: 1.9405 - val_accuracy: 0.4255\n",
      "Epoch 18/50\n",
      "2967/2967 [==============================] - 20s 7ms/step - loss: 1.9741 - accuracy: 0.4121 - val_loss: 1.9457 - val_accuracy: 0.4221\n",
      "Epoch 19/50\n",
      "2967/2967 [==============================] - 20s 7ms/step - loss: 1.9682 - accuracy: 0.4139 - val_loss: 1.9582 - val_accuracy: 0.4303\n",
      "Epoch 20/50\n",
      "2967/2967 [==============================] - 20s 7ms/step - loss: 1.9607 - accuracy: 0.4158 - val_loss: 1.9375 - val_accuracy: 0.4179\n",
      "Epoch 21/50\n",
      "2967/2967 [==============================] - 20s 7ms/step - loss: 1.9537 - accuracy: 0.4167 - val_loss: 1.9223 - val_accuracy: 0.4357\n",
      "Epoch 22/50\n",
      "2967/2967 [==============================] - 20s 7ms/step - loss: 1.9466 - accuracy: 0.4183 - val_loss: 1.9170 - val_accuracy: 0.4357\n",
      "Epoch 23/50\n",
      "2967/2967 [==============================] - 20s 7ms/step - loss: 1.9407 - accuracy: 0.4194 - val_loss: 1.9165 - val_accuracy: 0.4275\n",
      "Epoch 24/50\n",
      "2967/2967 [==============================] - 20s 7ms/step - loss: 1.9359 - accuracy: 0.4211 - val_loss: 1.9045 - val_accuracy: 0.4388\n",
      "Epoch 25/50\n",
      "2967/2967 [==============================] - 20s 7ms/step - loss: 1.9262 - accuracy: 0.4229 - val_loss: 1.9194 - val_accuracy: 0.4289\n",
      "Epoch 26/50\n",
      "2967/2967 [==============================] - 20s 7ms/step - loss: 1.9225 - accuracy: 0.4222 - val_loss: 1.9059 - val_accuracy: 0.4373\n",
      "Epoch 27/50\n",
      "2967/2967 [==============================] - 20s 7ms/step - loss: 1.9164 - accuracy: 0.4247 - val_loss: 1.9149 - val_accuracy: 0.4341\n",
      "Epoch 28/50\n",
      "2967/2967 [==============================] - 20s 7ms/step - loss: 1.9128 - accuracy: 0.4268 - val_loss: 1.8921 - val_accuracy: 0.4400\n",
      "Epoch 29/50\n",
      "2967/2967 [==============================] - 20s 7ms/step - loss: 1.9093 - accuracy: 0.4276 - val_loss: 1.9006 - val_accuracy: 0.4382\n",
      "Epoch 30/50\n",
      "2967/2967 [==============================] - 20s 7ms/step - loss: 1.9009 - accuracy: 0.4285 - val_loss: 1.8894 - val_accuracy: 0.4428\n",
      "Epoch 31/50\n",
      "2967/2967 [==============================] - 20s 7ms/step - loss: 1.8968 - accuracy: 0.4292 - val_loss: 1.9037 - val_accuracy: 0.4388\n",
      "Epoch 32/50\n",
      "2967/2967 [==============================] - 20s 7ms/step - loss: 1.8892 - accuracy: 0.4316 - val_loss: 1.8790 - val_accuracy: 0.4404\n",
      "Epoch 33/50\n",
      "2967/2967 [==============================] - 20s 7ms/step - loss: 1.8863 - accuracy: 0.4319 - val_loss: 1.8824 - val_accuracy: 0.4444\n",
      "Epoch 34/50\n",
      "2967/2967 [==============================] - 20s 7ms/step - loss: 1.8820 - accuracy: 0.4340 - val_loss: 1.8783 - val_accuracy: 0.4466\n",
      "Epoch 35/50\n",
      "2967/2967 [==============================] - 20s 7ms/step - loss: 1.8802 - accuracy: 0.4340 - val_loss: 1.8811 - val_accuracy: 0.4468\n",
      "Epoch 36/50\n",
      "2967/2967 [==============================] - 20s 7ms/step - loss: 1.8783 - accuracy: 0.4345 - val_loss: 1.8852 - val_accuracy: 0.4438\n",
      "Epoch 37/50\n",
      "2967/2967 [==============================] - 20s 7ms/step - loss: 1.8736 - accuracy: 0.4360 - val_loss: 1.8739 - val_accuracy: 0.4472\n",
      "Epoch 38/50\n",
      "2967/2967 [==============================] - 20s 7ms/step - loss: 1.8688 - accuracy: 0.4363 - val_loss: 1.8726 - val_accuracy: 0.4448\n",
      "Epoch 39/50\n",
      "2967/2967 [==============================] - 20s 7ms/step - loss: 1.8627 - accuracy: 0.4389 - val_loss: 1.8776 - val_accuracy: 0.4416\n",
      "Epoch 40/50\n",
      "2967/2967 [==============================] - 20s 7ms/step - loss: 1.8608 - accuracy: 0.4380 - val_loss: 1.8670 - val_accuracy: 0.4470\n",
      "Epoch 41/50\n",
      "2967/2967 [==============================] - 20s 7ms/step - loss: 1.8542 - accuracy: 0.4396 - val_loss: 1.8740 - val_accuracy: 0.4500\n",
      "Epoch 42/50\n",
      "2967/2967 [==============================] - 20s 7ms/step - loss: 1.8518 - accuracy: 0.4399 - val_loss: 1.8647 - val_accuracy: 0.4496\n",
      "Epoch 43/50\n",
      "2967/2967 [==============================] - 21s 7ms/step - loss: 1.8492 - accuracy: 0.4407 - val_loss: 1.9006 - val_accuracy: 0.4426\n",
      "Epoch 44/50\n",
      "2967/2967 [==============================] - 21s 7ms/step - loss: 1.8460 - accuracy: 0.4423 - val_loss: 1.8727 - val_accuracy: 0.4496\n",
      "Epoch 45/50\n",
      "2967/2967 [==============================] - 20s 7ms/step - loss: 1.8420 - accuracy: 0.4429 - val_loss: 1.8618 - val_accuracy: 0.4464\n",
      "Epoch 46/50\n",
      "2967/2967 [==============================] - 21s 7ms/step - loss: 1.8391 - accuracy: 0.4443 - val_loss: 1.8602 - val_accuracy: 0.4536\n",
      "Epoch 47/50\n",
      "2967/2967 [==============================] - 20s 7ms/step - loss: 1.8348 - accuracy: 0.4454 - val_loss: 1.8592 - val_accuracy: 0.4572\n",
      "Epoch 48/50\n",
      "2967/2967 [==============================] - 20s 7ms/step - loss: 1.8342 - accuracy: 0.4447 - val_loss: 1.8568 - val_accuracy: 0.4520\n",
      "Epoch 49/50\n",
      "2967/2967 [==============================] - 20s 7ms/step - loss: 1.8320 - accuracy: 0.4463 - val_loss: 1.8615 - val_accuracy: 0.4514\n",
      "Epoch 50/50\n",
      "2967/2967 [==============================] - 20s 7ms/step - loss: 1.8298 - accuracy: 0.4457 - val_loss: 1.8480 - val_accuracy: 0.4532\n"
     ]
    },
    {
     "data": {
      "image/png": "[encoded data removed]",
      "text/plain": [
       "<Figure size 432x288 with 1 Axes>"
      ]
     },
     "metadata": {
      "needs_background": "light"
     },
     "output_type": "display_data"
    },
    {
     "data": {
      "image/png": "[encoded data removed]",
      "text/plain": [
       "<Figure size 432x288 with 1 Axes>"
      ]
     },
     "metadata": {
      "needs_background": "light"
     },
     "output_type": "display_data"
    }
   ],
   "source": [
    "#train model\n",
    "hist = model.fit(x, y, epochs=50, verbose=1, batch_size=32, shuffle=False, validation_split=0.05)\n",
    "model.save(MODEL_NAME + \".h5\")\n",
    "\n",
    "plt.title(\"loss\")\n",
    "plt.plot(hist.history['loss'], label='loss')\n",
    "plt.plot(hist.history['val_loss'], label='val_loss')\n",
    "plt.show()\n",
    "\n",
    "plt.title(\"accuracy\")\n",
    "plt.plot(hist.history['accuracy'])\n",
    "plt.plot(hist.history['val_accuracy'])\n",
    "plt.show()"
   ]
  },
  {
   "cell_type": "code",
   "execution_count": 18,
   "id": "7fe81f47",
   "metadata": {
    "ExecuteTime": {
     "end_time": "2022-06-13T04:20:09.964540Z",
     "start_time": "2022-06-13T04:19:58.674566Z"
    }
   },
   "outputs": [
    {
     "name": "stdout",
     "output_type": "stream",
     "text": [
      "Enter first 7 words...testing\n"
     ]
    },
    {
     "data": {
      "application/vnd.jupyter.widget-view+json": {
       "model_id": "37a1ed141845479b95ed7eb46813225b",
       "version_major": 2,
       "version_minor": 0
      },
      "text/plain": [
       "  0%|          | 0/200 [00:00<?, ?it/s]"
      ]
     },
     "metadata": {},
     "output_type": "display_data"
    },
    {
     "name": "stdout",
     "output_type": "stream",
     "text": [
      "testing  tuai\n",
      "ie !ui\n",
      "o nuoi\n",
      "\n",
      " t wuoi\n",
      "\n",
      " suoi\n",
      "ie\n",
      "\n",
      "\n",
      "\n",
      "\n",
      "\n",
      "\n",
      "iii\n",
      "\n",
      " i\n",
      "tu\n",
      "iii v oe  nui\n",
      "\n",
      "ei\n",
      "; w\n",
      "\n",
      "'i,iii , vuii \n",
      "v xui\n",
      " i( ioiiaa wuoi\n",
      "\n",
      " suoi\n",
      "ie\n",
      "\n",
      "\n",
      "\n",
      "\n",
      "\n",
      "\n",
      "iii\n",
      "\n",
      " i\n",
      "tu\n",
      "iii v oe  nui\n",
      "\n",
      "ei\n",
      "; w\n",
      "\n",
      "'i,iii , vuii \n",
      "v xui\n",
      " i( ioiiaa wu\n"
     ]
    }
   ],
   "source": [
    "#test model\n",
    "sample_length = 200\n",
    "model = load_model(\"Test.h5\")\n",
    "\n",
    "#get input sentence and process\n",
    "sentence = input(\"Enter first \" + str(SEQUENCE_LENGTH) + \" words...\").lower()\n",
    "#tokenizer = RegexpTokenizer(r'\\w+')\n",
    "tokenizer = RegexpTokenizer(r'[a-zA-Z]')\n",
    "root = tokenizer.tokenize(sentence)\n",
    "root = normalize(root)\n",
    "while len(root) < SEQUENCE_LENGTH:\n",
    "    root.insert(0, 1)\n",
    "\n",
    "while len(root) > SEQUENCE_LENGTH:\n",
    "    root.pop(0)\n",
    "\n",
    "output = sentence + \" \"\n",
    "for i in log_progress(range(sample_length)):\n",
    "    tmp = np.array(root)\n",
    "    tmp = np.reshape(tmp, (1, 1, SEQUENCE_LENGTH))\n",
    "    pred = model.predict(tmp, verbose=0)\n",
    "    next_word = pred.argmax()\n",
    "    #next_word = np.random.choice(len(pred[0]), p=pred[0])\n",
    "    output += words[next_word]\n",
    "    root.pop(0)\n",
    "    root.append(next_word) #setting the next word\n",
    "\n",
    "print(output)"
   ]
  },
  {
   "cell_type": "code",
   "execution_count": null,
   "id": "11cf38a5",
   "metadata": {},
   "outputs": [],
   "source": []
  }
 ],
 "metadata": {
  "kernelspec": {
   "display_name": "Python 3 (ipykernel)",
   "language": "python",
   "name": "python3"
  },
  "language_info": {
   "codemirror_mode": {
    "name": "ipython",
    "version": 3
   },
   "file_extension": ".py",
   "mimetype": "text/x-python",
   "name": "python",
   "nbconvert_exporter": "python",
   "pygments_lexer": "ipython3",
   "version": "3.9.12"
  }
 },
 "nbformat": 4,
 "nbformat_minor": 5
}
