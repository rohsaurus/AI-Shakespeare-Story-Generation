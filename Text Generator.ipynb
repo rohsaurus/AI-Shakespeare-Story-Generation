{
 "cells": [
  {
   "cell_type": "code",
   "execution_count": 1,
   "id": "cd9e966d",
   "metadata": {
    "ExecuteTime": {
     "end_time": "2022-06-16T17:17:00.747777Z",
     "start_time": "2022-06-16T17:16:56.903326Z"
    }
   },
   "outputs": [],
   "source": [
    "import tensorflow.keras\n",
    "\n",
    "from tensorflow.keras.models import Sequential\n",
    "from tensorflow.keras.models import load_model\n",
    "from tensorflow.keras.layers import Dense\n",
    "from tensorflow.keras.layers import Embedding\n",
    "from tensorflow.keras.layers import LSTM\n",
    "from tensorflow.keras.layers import Dropout\n",
    "from tensorflow.keras.layers import InputLayer\n",
    "from tensorflow.keras.layers import BatchNormalization\n",
    "\n",
    "from tensorflow.keras.optimizers import Adam\n",
    "\n",
    "from tensorflow.keras.utils import to_categorical\n",
    "\n",
    "import numpy as np\n",
    "import nltk\n",
    "from nltk.tokenize import RegexpTokenizer\n",
    "import matplotlib.pyplot as plt\n",
    "import random\n",
    "\n",
    "from tqdm.notebook import tqdm as log_progress"
   ]
  },
  {
   "cell_type": "code",
   "execution_count": 12,
   "id": "6d8fb133",
   "metadata": {
    "ExecuteTime": {
     "end_time": "2022-06-16T17:19:22.398556Z",
     "start_time": "2022-06-16T17:19:20.563286Z"
    }
   },
   "outputs": [
    {
     "name": "stdout",
     "output_type": "stream",
     "text": [
      "Loading data...\n"
     ]
    },
    {
     "data": {
      "application/vnd.jupyter.widget-view+json": {
       "model_id": "057cbb3e4b9a4e0184fe97e7a33fe87b",
       "version_major": 2,
       "version_minor": 0
      },
      "text/plain": [
       "HBox(children=(HTML(value=''), FloatProgress(value=1.0, bar_style='info', layout=Layout(width='20px'), max=1.0…"
      ]
     },
     "metadata": {},
     "output_type": "display_data"
    },
    {
     "name": "stdout",
     "output_type": "stream",
     "text": [
      "\n",
      "Tokenizing...\n"
     ]
    },
    {
     "data": {
      "application/vnd.jupyter.widget-view+json": {
       "model_id": "342407dad5ca4dad8bc74e6391d0398f",
       "version_major": 2,
       "version_minor": 0
      },
      "text/plain": [
       "HBox(children=(HTML(value=''), FloatProgress(value=0.0, max=2309.0), HTML(value='')))"
      ]
     },
     "metadata": {},
     "output_type": "display_data"
    },
    {
     "name": "stdout",
     "output_type": "stream",
     "text": [
      "\n",
      "Finding every unique word...\n"
     ]
    },
    {
     "data": {
      "application/vnd.jupyter.widget-view+json": {
       "model_id": "3dcc48c0c75347f595904e9ee08055f5",
       "version_major": 2,
       "version_minor": 0
      },
      "text/plain": [
       "HBox(children=(HTML(value=''), FloatProgress(value=0.0, max=99920.0), HTML(value='')))"
      ]
     },
     "metadata": {},
     "output_type": "display_data"
    },
    {
     "name": "stdout",
     "output_type": "stream",
     "text": [
      "\n",
      "Compiling dataset...\n"
     ]
    },
    {
     "data": {
      "application/vnd.jupyter.widget-view+json": {
       "model_id": "7d5365145e374fb3b50252fe746c4447",
       "version_major": 2,
       "version_minor": 0
      },
      "text/plain": [
       "HBox(children=(HTML(value=''), FloatProgress(value=0.0, max=99919.0), HTML(value='')))"
      ]
     },
     "metadata": {},
     "output_type": "display_data"
    },
    {
     "name": "stdout",
     "output_type": "stream",
     "text": [
      "\n",
      "(99919, 1, 1)\n",
      "(99919, 62)\n"
     ]
    }
   ],
   "source": [
    "#load and clean data\n",
    "MODEL_NAME = \"Test\"\n",
    "#MODEL_NAME = 'shakespear2.0'\n",
    "data_file_name = \"data.txt\"\n",
    "SEQUENCE_LENGTH = 1 #how many items are fed into the ai per sequence\n",
    "\n",
    "raw = open(\"data/\" + data_file_name, \"r\", encoding='utf-8')\n",
    "\n",
    "lines = []\n",
    "print(\"Loading data...\")\n",
    "for line in log_progress(raw):\n",
    "    if str(line) != '\\n':\n",
    "        lines.append(str(line))\n",
    "\n",
    "print(\"Tokenizing...\")\n",
    "#putting the entirety of the input data into one string\n",
    "text = \"\"\n",
    "for line in log_progress(lines):\n",
    "    text += line\n",
    "#tokenizer = RegexpTokenizer(r'[a-zA-Z]')\n",
    "tokenizer = RegexpTokenizer(r'\\w+')\n",
    "#tokenized = tokenizer.tokenize(text)\n",
    "tokenized = [item for item in text]\n",
    "\n",
    "#converting the text into numbers to be processed by the embedding layer of the model\n",
    "words = [] #one of each word in tokenized will be in here\n",
    "filtering = lambda x : not x in words #for finding if the word should be added to the words array\n",
    "find = lambda x : float(words.index(x)) if x in words else float(len(words)) #convert each word into a number. -1 means that the item isn't in the vocabulary\n",
    "normalize = lambda x: [find(i)/len(words) for i in x]\n",
    "\n",
    "def convert_to_array(word_arr):\n",
    "    out = []\n",
    "    for i in range(len(word_arr)):\n",
    "        arr = [0] * (len(words)+1)\n",
    "        arr[i] = 1\n",
    "        out.append(arr)\n",
    "    return out\n",
    "    \n",
    "print(\"Finding every unique word...\")\n",
    "for word in log_progress(tokenized):\n",
    "    if filtering(word):\n",
    "        words.append(word)\n",
    "\n",
    "#x data is every single word in the data set, in order\n",
    "#y data is every single word that comes after the corresponding x value\n",
    "x = []\n",
    "y = []\n",
    "print(\"Compiling dataset...\")\n",
    "for i in log_progress(range(int(len(tokenized) - SEQUENCE_LENGTH))):\n",
    "    #x.append(convert_to_array(tokenized[i:i+SEQUENCE_LENGTH]))\n",
    "    \n",
    "    x.append(normalize(tokenized[i:i+SEQUENCE_LENGTH]))\n",
    "    y.append(find(tokenized[i+SEQUENCE_LENGTH]))\n",
    "\n",
    "x = np.asarray(x, np.float32)\n",
    "y = np.asarray(y, np.float32)\n",
    "\n",
    "x = np.reshape(x, (x.shape[0], 1, SEQUENCE_LENGTH))\n",
    "y = to_categorical(y)\n",
    "\n",
    "print(x.shape)\n",
    "print(y.shape)\n",
    "\n",
    "vocab_size = len(words)"
   ]
  },
  {
   "cell_type": "code",
   "execution_count": 21,
   "id": "a91298ab",
   "metadata": {
    "ExecuteTime": {
     "end_time": "2022-06-16T17:23:42.232676Z",
     "start_time": "2022-06-16T17:23:41.471953Z"
    }
   },
   "outputs": [
    {
     "name": "stdout",
     "output_type": "stream",
     "text": [
      "Model: \"sequential_3\"\n",
      "_________________________________________________________________\n",
      "Layer (type)                 Output Shape              Param #   \n",
      "=================================================================\n",
      "lstm_3 (LSTM)                (None, 128)               66560     \n",
      "_________________________________________________________________\n",
      "dropout_3 (Dropout)          (None, 128)               0         \n",
      "_________________________________________________________________\n",
      "dense_3 (Dense)              (None, 62)                7998      \n",
      "=================================================================\n",
      "Total params: 74,558\n",
      "Trainable params: 74,558\n",
      "Non-trainable params: 0\n",
      "_________________________________________________________________\n",
      "None\n"
     ]
    }
   ],
   "source": [
    "#create and compile model\n",
    "model = Sequential()\n",
    "\n",
    "model.add(LSTM(128, input_shape=(1, SEQUENCE_LENGTH)))\n",
    "model.add(Dropout(0.3))\n",
    "\n",
    "model.add(Dense(y.shape[1], activation='softmax'))\n",
    "\n",
    "opt = Adam(learning_rate=0.001)\n",
    "model.compile(optimizer=opt, loss='categorical_crossentropy', metrics=['accuracy'])\n",
    "print(model.summary())"
   ]
  },
  {
   "cell_type": "code",
   "execution_count": 22,
   "id": "3f438c67",
   "metadata": {
    "ExecuteTime": {
     "end_time": "2022-06-16T17:27:01.466812Z",
     "start_time": "2022-06-16T17:23:43.866882Z"
    },
    "scrolled": true
   },
   "outputs": [
    {
     "name": "stdout",
     "output_type": "stream",
     "text": [
      "Epoch 1/20\n",
      "1406/1406 [==============================] - 17s 8ms/step - loss: 3.1130 - accuracy: 0.2048 - val_loss: 2.9996 - val_accuracy: 0.2091\n",
      "Epoch 2/20\n",
      "1406/1406 [==============================] - 10s 7ms/step - loss: 2.9784 - accuracy: 0.2093 - val_loss: 2.9650 - val_accuracy: 0.2105\n",
      "Epoch 3/20\n",
      "1406/1406 [==============================] - 10s 7ms/step - loss: 2.9591 - accuracy: 0.2101 - val_loss: 2.9535 - val_accuracy: 0.2107\n",
      "Epoch 4/20\n",
      "1406/1406 [==============================] - 9s 7ms/step - loss: 2.9504 - accuracy: 0.2110 - val_loss: 2.9479 - val_accuracy: 0.2136\n",
      "Epoch 5/20\n",
      "1406/1406 [==============================] - 9s 7ms/step - loss: 2.9464 - accuracy: 0.2110 - val_loss: 2.9433 - val_accuracy: 0.2135\n",
      "Epoch 6/20\n",
      "1406/1406 [==============================] - 9s 7ms/step - loss: 2.9421 - accuracy: 0.2114 - val_loss: 2.9385 - val_accuracy: 0.2134\n",
      "Epoch 7/20\n",
      "1406/1406 [==============================] - 9s 7ms/step - loss: 2.9379 - accuracy: 0.2117 - val_loss: 2.9336 - val_accuracy: 0.2161\n",
      "Epoch 8/20\n",
      "1406/1406 [==============================] - 9s 7ms/step - loss: 2.9331 - accuracy: 0.2121 - val_loss: 2.9279 - val_accuracy: 0.2161\n",
      "Epoch 9/20\n",
      "1406/1406 [==============================] - 9s 7ms/step - loss: 2.9283 - accuracy: 0.2131 - val_loss: 2.9230 - val_accuracy: 0.2158\n",
      "Epoch 10/20\n",
      "1406/1406 [==============================] - 9s 7ms/step - loss: 2.9253 - accuracy: 0.2126 - val_loss: 2.9190 - val_accuracy: 0.2160\n",
      "Epoch 11/20\n",
      "1406/1406 [==============================] - 9s 7ms/step - loss: 2.9223 - accuracy: 0.2135 - val_loss: 2.9159 - val_accuracy: 0.2158\n",
      "Epoch 12/20\n",
      "1406/1406 [==============================] - 9s 7ms/step - loss: 2.9197 - accuracy: 0.2129 - val_loss: 2.9127 - val_accuracy: 0.2160\n",
      "Epoch 13/20\n",
      "1406/1406 [==============================] - 9s 7ms/step - loss: 2.9180 - accuracy: 0.2131 - val_loss: 2.9105 - val_accuracy: 0.2158\n",
      "Epoch 14/20\n",
      "1406/1406 [==============================] - 9s 7ms/step - loss: 2.9160 - accuracy: 0.2132 - val_loss: 2.9081 - val_accuracy: 0.2160\n",
      "Epoch 15/20\n",
      "1406/1406 [==============================] - 10s 7ms/step - loss: 2.9134 - accuracy: 0.2134 - val_loss: 2.9056 - val_accuracy: 0.2158\n",
      "Epoch 16/20\n",
      "1406/1406 [==============================] - 10s 7ms/step - loss: 2.9106 - accuracy: 0.2129 - val_loss: 2.9034 - val_accuracy: 0.2159\n",
      "Epoch 17/20\n",
      "1406/1406 [==============================] - 10s 7ms/step - loss: 2.9095 - accuracy: 0.2134 - val_loss: 2.9009 - val_accuracy: 0.2160\n",
      "Epoch 18/20\n",
      "1406/1406 [==============================] - 10s 7ms/step - loss: 2.9061 - accuracy: 0.2136 - val_loss: 2.8979 - val_accuracy: 0.2160\n",
      "Epoch 19/20\n",
      "1406/1406 [==============================] - 9s 7ms/step - loss: 2.9034 - accuracy: 0.2140 - val_loss: 2.8953 - val_accuracy: 0.2160\n",
      "Epoch 20/20\n",
      "1406/1406 [==============================] - 9s 7ms/step - loss: 2.9015 - accuracy: 0.2134 - val_loss: 2.8926 - val_accuracy: 0.2160\n"
     ]
    },
    {
     "data": {
      "image/png": "[encoded data removed]",
      "text/plain": [
       "<Figure size 432x288 with 1 Axes>"
      ]
     },
     "metadata": {
      "needs_background": "light"
     },
     "output_type": "display_data"
    },
    {
     "data": {
      "image/png": "[encoded data removed]",
      "text/plain": [
       "<Figure size 432x288 with 1 Axes>"
      ]
     },
     "metadata": {
      "needs_background": "light"
     },
     "output_type": "display_data"
    }
   ],
   "source": [
    "#train model\n",
    "hist = model.fit(x, y, epochs=20, verbose=1, batch_size=64, shuffle=False, validation_split=0.1)\n",
    "model.save(MODEL_NAME + \".h5\")\n",
    "\n",
    "plt.title(\"loss\")\n",
    "plt.plot(hist.history['loss'], label='loss')\n",
    "plt.plot(hist.history['val_loss'], label='val_loss')\n",
    "plt.show()\n",
    "\n",
    "plt.title(\"accuracy\")\n",
    "plt.plot(hist.history['accuracy'])\n",
    "plt.plot(hist.history['val_accuracy'])\n",
    "plt.show()"
   ]
  },
  {
   "cell_type": "code",
   "execution_count": 33,
   "id": "7fe81f47",
   "metadata": {
    "ExecuteTime": {
     "end_time": "2022-06-13T18:47:00.438224Z",
     "start_time": "2022-06-13T18:46:45.820152Z"
    }
   },
   "outputs": [
    {
     "name": "stdout",
     "output_type": "stream",
     "text": [
      "Enter first 5 words...hello there\n"
     ]
    },
    {
     "data": {
      "application/vnd.jupyter.widget-view+json": {
       "model_id": "d8163c35585a454c938b0379c93c491b",
       "version_major": 2,
       "version_minor": 0
      },
      "text/plain": [
       "HBox(children=(HTML(value=''), FloatProgress(value=0.0, max=200.0), HTML(value='')))"
      ]
     },
     "metadata": {},
     "output_type": "display_data"
    },
    {
     "name": "stdout",
     "output_type": "stream",
     "text": [
      "\n",
      "hello there   \n",
      "  g_\"0 ?d ?yzmtw tz\n",
      "zz\n",
      "z?\n",
      "zz\n",
      "z?\n",
      "zz\n",
      "z?\n",
      "zz\n",
      "z?\n",
      "zz\n",
      "z?\n",
      "zz\n",
      "z?\n",
      "zz\n",
      "z?\n",
      "zz\n",
      "z?\n",
      "zz\n",
      "z?\n",
      "zz\n",
      "z?\n",
      "zz\n",
      "z?\n",
      "zz\n",
      "z?\n",
      "zz\n",
      "z?\n",
      "zz\n",
      "z?\n",
      "zz\n",
      "z?\n",
      "zz\n",
      "z?\n",
      "zz\n",
      "z?\n",
      "zz\n",
      "z?\n",
      "zz\n",
      "z?\n",
      "zz\n",
      "z?\n",
      "zz\n",
      "z?\n",
      "zz\n",
      "z?\n",
      "zz\n",
      "z?\n",
      "zz\n",
      "z?\n",
      "zz\n",
      "z?\n",
      "zz\n",
      "z?\n",
      "zz\n",
      "z?\n",
      "zz\n",
      "z?\n",
      "zz\n",
      "z?\n",
      "zz\n",
      "\n"
     ]
    }
   ],
   "source": [
    "#test model\n",
    "sample_length = 200\n",
    "model = load_model(\"Test.h5\")\n",
    "\n",
    "#get input sentence and process\n",
    "sentence = input(\"Enter first \" + str(SEQUENCE_LENGTH) + \" words...\").lower()\n",
    "\n",
    "root = [item for item in text]\n",
    "root = normalize(root)\n",
    "while len(root) < SEQUENCE_LENGTH:\n",
    "    root.insert(0, 1)\n",
    "\n",
    "while len(root) > SEQUENCE_LENGTH:\n",
    "    root.pop(0)\n",
    "\n",
    "output = sentence + \" \"\n",
    "for i in log_progress(range(sample_length)):\n",
    "    tmp = np.array(root)\n",
    "    tmp = np.reshape(tmp, (1, 1, SEQUENCE_LENGTH))\n",
    "    pred = model.predict(tmp, verbose=0)\n",
    "    next_word = pred.argmax()\n",
    "    #next_word = np.random.choice(len(pred[0]), p=pred[0])\n",
    "    output += words[next_word]\n",
    "    root.pop(0)\n",
    "    root.append(next_word) #setting the next word\n",
    "\n",
    "print(output)"
   ]
  },
  {
   "cell_type": "code",
   "execution_count": null,
   "id": "11cf38a5",
   "metadata": {},
   "outputs": [],
   "source": []
  }
 ],
 "metadata": {
  "kernelspec": {
   "display_name": "Python 3",
   "language": "python",
   "name": "python3"
  },
  "language_info": {
   "codemirror_mode": {
    "name": "ipython",
    "version": 3
   },
   "file_extension": ".py",
   "mimetype": "text/x-python",
   "name": "python",
   "nbconvert_exporter": "python",
   "pygments_lexer": "ipython3",
   "version": "3.9.1"
  }
 },
 "nbformat": 4,
 "nbformat_minor": 5
}
