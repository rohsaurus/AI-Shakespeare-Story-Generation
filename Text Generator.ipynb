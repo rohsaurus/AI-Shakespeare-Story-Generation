{
 "cells": [
  {
   "cell_type": "code",
   "execution_count": 8,
   "id": "cd9e966d",
   "metadata": {
    "ExecuteTime": {
     "end_time": "2022-06-06T14:03:05.340230Z",
     "start_time": "2022-06-06T14:03:05.132377Z"
    }
   },
   "outputs": [],
   "source": [
    "import tensorflow.keras\n",
    "\n",
    "from tensorflow.keras.models import Sequential\n",
    "from tensorflow.keras.models import load_model\n",
    "from tensorflow.keras.layers import Dense\n",
    "from tensorflow.keras.layers import Embedding\n",
    "from tensorflow.keras.layers import LSTM\n",
    "from tensorflow.keras.layers import Dropout\n",
    "\n",
    "from tensorflow.keras.utils import to_categorical\n",
    "\n",
    "import numpy as np\n",
    "import nltk\n",
    "import matplotlib.pyplot as plt\n",
    "import random\n",
    "\n",
    "from tqdm.notebook import tqdm as log_progress"
   ]
  },
  {
   "cell_type": "code",
   "execution_count": 5,
   "id": "6d8fb133",
   "metadata": {
    "ExecuteTime": {
     "end_time": "2022-06-06T13:58:11.717396Z",
     "start_time": "2022-06-06T13:58:09.165036Z"
    }
   },
   "outputs": [
    {
     "name": "stdout",
     "output_type": "stream",
     "text": [
      "(21078,)\n",
      "(21078, 3297)\n"
     ]
    }
   ],
   "source": [
    "#load and clean data\n",
    "raw = open(\"data.txt\", \"r\")\n",
    "\n",
    "lines = []\n",
    "for line in raw:\n",
    "    if str(line) != '\\n':\n",
    "        lines.append(str(line).lower())\n",
    "\n",
    "#putting the entirety of the input data into one string\n",
    "text = \"\"\n",
    "for line in lines:\n",
    "    text += line\n",
    "tokenized = nltk.word_tokenize(text)\n",
    "\n",
    "#converting the text into numbers to be processed by the embedding layer of the model\n",
    "words = [] #one of each word in tokenized will be in here\n",
    "filtering = lambda x : not x in words #for finding if the word should be added to the words array\n",
    "find = lambda x : words.index(x) if x in words else -1 #convert each word into a number. -1 means that the item isn't in the vocabulary\n",
    "\n",
    "for word in tokenized:\n",
    "    if filtering(word):\n",
    "        words.append(word)\n",
    "\n",
    "#x data is every single word in the data set, in order\n",
    "#y data is every single word that comes after the corresponding x value\n",
    "x = []\n",
    "y = []\n",
    "for i in range(len(tokenized)):\n",
    "    x.append(find(tokenized[i]))\n",
    "    if i+1 < len(tokenized):\n",
    "        y.append(find(tokenized[i+1]))\n",
    "    else:\n",
    "        y.append(find(\".\"))\n",
    "\n",
    "x = np.asarray(x)\n",
    "y = np.asarray(y)\n",
    "y = to_categorical(y)\n",
    "\n",
    "print(x.shape)\n",
    "print(y.shape)\n",
    "\n",
    "vocab_size = len(words) + 1"
   ]
  },
  {
   "cell_type": "code",
   "execution_count": 6,
   "id": "a91298ab",
   "metadata": {
    "ExecuteTime": {
     "end_time": "2022-06-06T13:58:13.713760Z",
     "start_time": "2022-06-06T13:58:12.938929Z"
    }
   },
   "outputs": [
    {
     "name": "stdout",
     "output_type": "stream",
     "text": [
      "Model: \"sequential_1\"\n",
      "_________________________________________________________________\n",
      "Layer (type)                 Output Shape              Param #   \n",
      "=================================================================\n",
      "embedding_1 (Embedding)      (None, 1, 32)             105536    \n",
      "_________________________________________________________________\n",
      "lstm_1 (LSTM)                (None, 20)                4240      \n",
      "_________________________________________________________________\n",
      "dense_2 (Dense)              (None, 32)                672       \n",
      "_________________________________________________________________\n",
      "dropout_1 (Dropout)          (None, 32)                0         \n",
      "_________________________________________________________________\n",
      "dense_3 (Dense)              (None, 3297)              108801    \n",
      "=================================================================\n",
      "Total params: 219,249\n",
      "Trainable params: 219,249\n",
      "Non-trainable params: 0\n",
      "_________________________________________________________________\n",
      "None\n"
     ]
    }
   ],
   "source": [
    "#create and compile model\n",
    "model = Sequential()\n",
    "\n",
    "model.add(Embedding(vocab_size, 32, input_length=(1))) #embedding: size of vocabulary, dimension of each value\n",
    "model.add(LSTM(20))\n",
    "model.add(Dense(32, activation='relu'))\n",
    "model.add(Dropout(0.05))\n",
    "model.add(Dense(y.shape[1], activation='softmax'))\n",
    "\n",
    "model.compile(optimizer='adam', loss='categorical_crossentropy', metrics=['accuracy'])\n",
    "print(model.summary())"
   ]
  },
  {
   "cell_type": "code",
   "execution_count": 7,
   "id": "3f438c67",
   "metadata": {
    "ExecuteTime": {
     "end_time": "2022-06-06T14:02:37.313976Z",
     "start_time": "2022-06-06T13:58:15.235450Z"
    }
   },
   "outputs": [
    {
     "name": "stdout",
     "output_type": "stream",
     "text": [
      "Epoch 1/20\n",
      "2087/2087 [==============================] - 20s 7ms/step - loss: 6.3650 - accuracy: 0.0849 - val_loss: 6.7198 - val_accuracy: 0.0900\n",
      "Epoch 2/20\n",
      "2087/2087 [==============================] - 13s 6ms/step - loss: 5.9973 - accuracy: 0.0855 - val_loss: 7.0228 - val_accuracy: 0.0900\n",
      "Epoch 3/20\n",
      "2087/2087 [==============================] - 12s 6ms/step - loss: 5.8480 - accuracy: 0.0955 - val_loss: 7.1211 - val_accuracy: 0.0995\n",
      "Epoch 4/20\n",
      "2087/2087 [==============================] - 13s 6ms/step - loss: 5.6808 - accuracy: 0.1096 - val_loss: 7.2868 - val_accuracy: 0.0900\n",
      "Epoch 5/20\n",
      "2087/2087 [==============================] - 13s 6ms/step - loss: 5.5173 - accuracy: 0.1118 - val_loss: 7.5241 - val_accuracy: 0.0995\n",
      "Epoch 6/20\n",
      "2087/2087 [==============================] - 13s 6ms/step - loss: 5.3782 - accuracy: 0.1221 - val_loss: 7.7538 - val_accuracy: 0.0948\n",
      "Epoch 7/20\n",
      "2087/2087 [==============================] - 13s 6ms/step - loss: 5.2614 - accuracy: 0.1355 - val_loss: 7.9175 - val_accuracy: 0.0995\n",
      "Epoch 8/20\n",
      "2087/2087 [==============================] - 13s 6ms/step - loss: 5.1581 - accuracy: 0.1401 - val_loss: 8.0443 - val_accuracy: 0.0900\n",
      "Epoch 9/20\n",
      "2087/2087 [==============================] - 13s 6ms/step - loss: 5.0651 - accuracy: 0.1426 - val_loss: 8.2444 - val_accuracy: 0.1043\n",
      "Epoch 10/20\n",
      "2087/2087 [==============================] - 13s 6ms/step - loss: 4.9695 - accuracy: 0.1512 - val_loss: 8.3606 - val_accuracy: 0.1043\n",
      "Epoch 11/20\n",
      "2087/2087 [==============================] - 13s 6ms/step - loss: 4.8811 - accuracy: 0.1566 - val_loss: 8.3992 - val_accuracy: 0.0995\n",
      "Epoch 12/20\n",
      "2087/2087 [==============================] - 13s 6ms/step - loss: 4.7929 - accuracy: 0.1633 - val_loss: 8.5616 - val_accuracy: 0.0900\n",
      "Epoch 13/20\n",
      "2087/2087 [==============================] - 13s 6ms/step - loss: 4.7088 - accuracy: 0.1667 - val_loss: 8.6893 - val_accuracy: 0.0900\n",
      "Epoch 14/20\n",
      "2087/2087 [==============================] - 13s 6ms/step - loss: 4.6316 - accuracy: 0.1730 - val_loss: 8.8392 - val_accuracy: 0.0900\n",
      "Epoch 15/20\n",
      "2087/2087 [==============================] - 12s 6ms/step - loss: 4.5568 - accuracy: 0.1779 - val_loss: 8.9934 - val_accuracy: 0.0853\n",
      "Epoch 16/20\n",
      "2087/2087 [==============================] - 13s 6ms/step - loss: 4.4965 - accuracy: 0.1815 - val_loss: 9.2755 - val_accuracy: 0.0900\n",
      "Epoch 17/20\n",
      "2087/2087 [==============================] - 13s 6ms/step - loss: 4.4369 - accuracy: 0.1813 - val_loss: 9.4639 - val_accuracy: 0.0900\n",
      "Epoch 18/20\n",
      "2087/2087 [==============================] - 13s 6ms/step - loss: 4.3788 - accuracy: 0.1868 - val_loss: 9.7024 - val_accuracy: 0.0853\n",
      "Epoch 19/20\n",
      "2087/2087 [==============================] - ETA: 0s - loss: 4.3275 - accuracy: 0.18 - 13s 6ms/step - loss: 4.3274 - accuracy: 0.1898 - val_loss: 10.0186 - val_accuracy: 0.0853\n",
      "Epoch 20/20\n",
      "2087/2087 [==============================] - 12s 6ms/step - loss: 4.2791 - accuracy: 0.1914 - val_loss: 10.1243 - val_accuracy: 0.0853\n"
     ]
    },
    {
     "data": {
      "image/png": "[encoded data removed]",
      "text/plain": [
       "<Figure size 432x288 with 1 Axes>"
      ]
     },
     "metadata": {
      "needs_background": "light"
     },
     "output_type": "display_data"
    }
   ],
   "source": [
    "#train model\n",
    "hist = model.fit(x, y, epochs=20, verbose=1, batch_size=10, validation_split=0.01)\n",
    "plt.title(\"loss\")\n",
    "plt.plot(hist.history['loss'])\n",
    "model.save(\"shakespear2.0.h5\")"
   ]
  },
  {
   "cell_type": "code",
   "execution_count": null,
   "id": "7fe81f47",
   "metadata": {
    "ExecuteTime": {
     "start_time": "2022-06-06T14:03:27.200Z"
    }
   },
   "outputs": [],
   "source": [
    "#test model\n",
    "sample_length = 100\n",
    "model = load_model(\"shakespear2.0.h5\")\n",
    "\n",
    "root = random.choice(words)\n",
    "output = \"\"\n",
    "\n",
    "for i in log_progress(range(sample_length)):\n",
    "    num = find(root)\n",
    "    pred = model.predict([num])\n",
    "    next_word = np.random.choice(len(pred[0]), p=pred[0])\n",
    "    output += words[next_word] + \" \"\n",
    "    root = words[pred.argmax()] #setting the next word\n",
    "\n",
    "print(output)"
   ]
  },
  {
   "cell_type": "code",
   "execution_count": null,
   "id": "11cf38a5",
   "metadata": {},
   "outputs": [],
   "source": []
  }
 ],
 "metadata": {
  "kernelspec": {
   "display_name": "Python 3",
   "language": "python",
   "name": "python3"
  },
  "language_info": {
   "codemirror_mode": {
    "name": "ipython",
    "version": 3
   },
   "file_extension": ".py",
   "mimetype": "text/x-python",
   "name": "python",
   "nbconvert_exporter": "python",
   "pygments_lexer": "ipython3",
   "version": "3.9.1"
  }
 },
 "nbformat": 4,
 "nbformat_minor": 5
}
