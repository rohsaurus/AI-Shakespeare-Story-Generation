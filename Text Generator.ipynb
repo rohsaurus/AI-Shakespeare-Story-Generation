{
 "cells": [
  {
   "cell_type": "code",
   "execution_count": 1,
   "id": "cd9e966d",
   "metadata": {
    "ExecuteTime": {
     "end_time": "2022-06-18T15:58:31.117421Z",
     "start_time": "2022-06-18T15:58:27.619910Z"
    }
   },
   "outputs": [],
   "source": [
    "import tensorflow.keras\n",
    "\n",
    "from tensorflow.keras.models import Sequential\n",
    "from tensorflow.keras.models import load_model\n",
    "from tensorflow.keras.layers import Dense\n",
    "from tensorflow.keras.layers import Embedding\n",
    "from tensorflow.keras.layers import LSTM\n",
    "from tensorflow.keras.layers import Dropout\n",
    "from tensorflow.keras.layers import InputLayer\n",
    "from tensorflow.keras.layers import BatchNormalization\n",
    "from tensorflow.keras.layers import TimeDistributed\n",
    "\n",
    "from tensorflow.keras.optimizers import Adam\n",
    "\n",
    "from tensorflow.keras.utils import to_categorical\n",
    "\n",
    "import numpy as np\n",
    "import nltk\n",
    "from nltk.tokenize import RegexpTokenizer\n",
    "import matplotlib.pyplot as plt\n",
    "import random\n",
    "\n",
    "from tqdm.notebook import tqdm as log_progress"
   ]
  },
  {
   "cell_type": "code",
   "execution_count": 2,
   "id": "6d8fb133",
   "metadata": {
    "ExecuteTime": {
     "end_time": "2022-06-18T15:59:01.043800Z",
     "start_time": "2022-06-18T15:58:35.414991Z"
    }
   },
   "outputs": [
    {
     "name": "stdout",
     "output_type": "stream",
     "text": [
      "Loading data...\n"
     ]
    },
    {
     "data": {
      "application/vnd.jupyter.widget-view+json": {
       "model_id": "61296de69c9a49c78937cc1855278cc0",
       "version_major": 2,
       "version_minor": 0
      },
      "text/plain": [
       "0it [00:00, ?it/s]"
      ]
     },
     "metadata": {},
     "output_type": "display_data"
    },
    {
     "name": "stdout",
     "output_type": "stream",
     "text": [
      "Tokenizing...\n"
     ]
    },
    {
     "data": {
      "application/vnd.jupyter.widget-view+json": {
       "model_id": "4d8243b69c704ecaac52004b362f8f90",
       "version_major": 2,
       "version_minor": 0
      },
      "text/plain": [
       "  0%|          | 0/7247 [00:00<?, ?it/s]"
      ]
     },
     "metadata": {},
     "output_type": "display_data"
    },
    {
     "name": "stdout",
     "output_type": "stream",
     "text": [
      "Finding every unique word...\n"
     ]
    },
    {
     "data": {
      "application/vnd.jupyter.widget-view+json": {
       "model_id": "21317dd34ab64edfa44345d874b57068",
       "version_major": 2,
       "version_minor": 0
      },
      "text/plain": [
       "  0%|          | 0/1501786 [00:00<?, ?it/s]"
      ]
     },
     "metadata": {},
     "output_type": "display_data"
    },
    {
     "name": "stdout",
     "output_type": "stream",
     "text": [
      "Compiling dataset...\n"
     ]
    },
    {
     "data": {
      "application/vnd.jupyter.widget-view+json": {
       "model_id": "10130c04be304a86af7f59ca553b68f7",
       "version_major": 2,
       "version_minor": 0
      },
      "text/plain": [
       "  0%|          | 0/1501766 [00:00<?, ?it/s]"
      ]
     },
     "metadata": {},
     "output_type": "display_data"
    },
    {
     "name": "stdout",
     "output_type": "stream",
     "text": [
      "(1501766, 20, 1)\n",
      "(1501766, 83)\n"
     ]
    }
   ],
   "source": [
    "#load and clean data\n",
    "#MODEL_NAME = \"Test\"\n",
    "MODEL_NAME = 'shakespear2.0'\n",
    "data_file_name = \"aim-high.epub.txt\"\n",
    "SEQUENCE_LENGTH = 20 #how many items are fed into the ai per sequence\n",
    "\n",
    "raw = open(\"data/\" + data_file_name, \"r\", encoding='utf-8')\n",
    "\n",
    "lines = []\n",
    "print(\"Loading data...\")\n",
    "for line in log_progress(raw):\n",
    "    if str(line) != '\\n':\n",
    "        lines.append(str(line))\n",
    "\n",
    "print(\"Tokenizing...\")\n",
    "#putting the entirety of the input data into one string\n",
    "text = \"\"\n",
    "for line in log_progress(lines):\n",
    "    text += line\n",
    "#tokenizer = RegexpTokenizer(r'[a-zA-Z]')\n",
    "tokenizer = RegexpTokenizer(r'\\w+')\n",
    "#tokenized = tokenizer.tokenize(text)\n",
    "tokenized = [item for item in text]\n",
    "\n",
    "#converting the text into numbers to be processed by the embedding layer of the model\n",
    "words = [] #one of each word in tokenized will be in here\n",
    "filtering = lambda x : not x in words #for finding if the word should be added to the words array\n",
    "find = lambda x : float(words.index(x)) if x in words else float(len(words)) #convert each word into a number. -1 means that the item isn't in the vocabulary\n",
    "normalize = lambda x: [find(i)/len(words) for i in x]\n",
    "\n",
    "def convert_to_array(word_arr):\n",
    "    out = []\n",
    "    for i in range(len(word_arr)):\n",
    "        arr = [0] * (len(words)+1)\n",
    "        arr[i] = 1\n",
    "        out.append(arr)\n",
    "    return out\n",
    "    \n",
    "print(\"Finding every unique word...\")\n",
    "for word in log_progress(tokenized):\n",
    "    if filtering(word):\n",
    "        words.append(word)\n",
    "\n",
    "#saving the network so that rohan doesn't have to use his precious memory\n",
    "np_words = np.asarray(words)\n",
    "np.save(\"words.npy\", np_words)\n",
    "\n",
    "#x data is every single word in the data set, in order\n",
    "#y data is every single word that comes after the corresponding x value\n",
    "x = []\n",
    "y = []\n",
    "print(\"Compiling dataset...\")\n",
    "for i in log_progress(range(int(len(tokenized) - SEQUENCE_LENGTH))):\n",
    "    #x.append(convert_to_array(tokenized[i:i+SEQUENCE_LENGTH]))\n",
    "    \n",
    "    x.append(normalize(tokenized[i:i+SEQUENCE_LENGTH]))\n",
    "    y.append(find(tokenized[i+SEQUENCE_LENGTH]))\n",
    "\n",
    "x = np.asarray(x, np.float32)\n",
    "y = np.asarray(y, np.float32)\n",
    "\n",
    "x = np.reshape(x, (x.shape[0], SEQUENCE_LENGTH, 1))\n",
    "y = to_categorical(y)\n",
    "\n",
    "print(x.shape)\n",
    "print(y.shape)\n",
    "\n",
    "vocab_size = len(words)"
   ]
  },
  {
   "cell_type": "code",
   "execution_count": 3,
   "id": "a91298ab",
   "metadata": {
    "ExecuteTime": {
     "end_time": "2022-06-18T13:34:47.682460Z",
     "start_time": "2022-06-18T13:34:46.408944Z"
    }
   },
   "outputs": [
    {
     "name": "stdout",
     "output_type": "stream",
     "text": [
      "Model: \"sequential\"\n",
      "_________________________________________________________________\n",
      " Layer (type)                Output Shape              Param #   \n",
      "=================================================================\n",
      " lstm (LSTM)                 (None, 20, 300)           362400    \n",
      "                                                                 \n",
      " dropout (Dropout)           (None, 20, 300)           0         \n",
      "                                                                 \n",
      " lstm_1 (LSTM)               (None, 20, 256)           570368    \n",
      "                                                                 \n",
      " dropout_1 (Dropout)         (None, 20, 256)           0         \n",
      "                                                                 \n",
      " lstm_2 (LSTM)               (None, 128)               197120    \n",
      "                                                                 \n",
      " dropout_2 (Dropout)         (None, 128)               0         \n",
      "                                                                 \n",
      " dense (Dense)               (None, 83)                10707     \n",
      "                                                                 \n",
      "=================================================================\n",
      "Total params: 1,140,595\n",
      "Trainable params: 1,140,595\n",
      "Non-trainable params: 0\n",
      "_________________________________________________________________\n",
      "None\n"
     ]
    }
   ],
   "source": [
    "#create and compile model\n",
    "model = Sequential()\n",
    "\n",
    "model.add(LSTM(300, input_shape=(SEQUENCE_LENGTH, 1), return_sequences=True))\n",
    "model.add(Dropout(0.2))\n",
    "\n",
    "model.add(LSTM(256, return_sequences=True))\n",
    "model.add(Dropout(0.2))\n",
    "\n",
    "model.add(LSTM(128))\n",
    "model.add(Dropout(0.2))\n",
    "\n",
    "model.add(Dense(y.shape[1], activation='softmax'))\n",
    "\n",
    "opt = Adam(learning_rate=0.001)\n",
    "model.compile(optimizer=opt, loss='categorical_crossentropy')\n",
    "print(model.summary())"
   ]
  },
  {
   "cell_type": "code",
   "execution_count": 8,
   "id": "3f438c67",
   "metadata": {
    "ExecuteTime": {
     "end_time": "2022-06-18T20:56:35.781187Z",
     "start_time": "2022-06-18T19:22:23.154281Z"
    },
    "scrolled": true
   },
   "outputs": [
    {
     "name": "stdout",
     "output_type": "stream",
     "text": [
      "Epoch 1/12\n",
      "38617/38617 [==============================] - 473s 12ms/step - loss: 1.2499 - val_loss: 1.2248\n",
      "Epoch 2/12\n",
      "38617/38617 [==============================] - 471s 12ms/step - loss: 1.2543 - val_loss: 1.2339\n",
      "Epoch 3/12\n",
      "38617/38617 [==============================] - 515s 13ms/step - loss: 1.2573 - val_loss: 1.2266\n",
      "Epoch 4/12\n",
      "38617/38617 [==============================] - 468s 12ms/step - loss: 1.2582 - val_loss: 1.2298\n",
      "Epoch 5/12\n",
      "38617/38617 [==============================] - 482s 12ms/step - loss: 1.2581 - val_loss: 1.2271\n",
      "Epoch 6/12\n",
      "38617/38617 [==============================] - 469s 12ms/step - loss: 1.2569 - val_loss: 1.2247\n",
      "Epoch 7/12\n",
      "38617/38617 [==============================] - 457s 12ms/step - loss: 1.2573 - val_loss: 1.2296\n",
      "Epoch 8/12\n",
      "38617/38617 [==============================] - 453s 12ms/step - loss: 1.2552 - val_loss: 1.2235\n",
      "Epoch 9/12\n",
      "38617/38617 [==============================] - 465s 12ms/step - loss: 1.2552 - val_loss: 1.2217\n",
      "Epoch 10/12\n",
      "38617/38617 [==============================] - 469s 12ms/step - loss: 1.2563 - val_loss: 1.2235\n",
      "Epoch 11/12\n",
      "38617/38617 [==============================] - 464s 12ms/step - loss: 1.2573 - val_loss: 1.2305\n",
      "Epoch 12/12\n",
      "38617/38617 [==============================] - 466s 12ms/step - loss: 1.2567 - val_loss: 1.2311\n"
     ]
    },
    {
     "data": {
      "image/png": "[encoded data removed]",
      "text/plain": [
       "<Figure size 432x288 with 1 Axes>"
      ]
     },
     "metadata": {
      "needs_background": "light"
     },
     "output_type": "display_data"
    }
   ],
   "source": [
    "#train model\n",
    "model = load_model(MODEL_NAME + \".h5\")\n",
    "hist = model.fit(x, y, epochs=12, verbose=1, batch_size=35, validation_split=0.1)\n",
    "model.save(MODEL_NAME + \".h5\")\n",
    "\n",
    "plt.title(\"loss\")\n",
    "plt.plot(hist.history['loss'], label='loss')\n",
    "plt.plot(hist.history['val_loss'], label='val_loss')\n",
    "plt.show()"
   ]
  },
  {
   "cell_type": "code",
   "execution_count": 9,
   "id": "7fe81f47",
   "metadata": {
    "ExecuteTime": {
     "end_time": "2022-06-19T02:47:13.011999Z",
     "start_time": "2022-06-19T02:46:56.090682Z"
    }
   },
   "outputs": [
    {
     "name": "stdout",
     "output_type": "stream",
     "text": [
      "Enter first 20 letters... apparently this is the best the model can do\n"
     ]
    },
    {
     "data": {
      "application/vnd.jupyter.widget-view+json": {
       "model_id": "d22628a7aff44a26a5b99f0dca52464a",
       "version_major": 2,
       "version_minor": 0
      },
      "text/plain": [
       "  0%|          | 0/200 [00:00<?, ?it/s]"
      ]
     },
     "metadata": {},
     "output_type": "display_data"
    },
    {
     "name": "stdout",
     "output_type": "stream",
     "text": [
      "apparently this is the best the model can dotoewe  an 'oiicn  tn osfnbd  tn otf ltaoiinng ntoet  an cooll daonke eaicdi ntoe raenk  Tnaol  tn otf lteod wtietl  an  on atn  tn otf lteod wtietl  an  on atn  tn otf lteod wtietl  an  on atn  tn otf\n"
     ]
    }
   ],
   "source": [
    "#test model\n",
    "sample_length = 200\n",
    "model = load_model(\"shakespear2.0.h5\")\n",
    "\n",
    "words = []\n",
    "np_words = np.load(open('words.npy', 'rb'))\n",
    "words = np_words.tolist()\n",
    "    \n",
    "#get input sentence and process\n",
    "sentence = input(\"Enter first \" + str(SEQUENCE_LENGTH) + \" letters... \").lower()\n",
    "\n",
    "def process(data):\n",
    "    output = normalize([data])\n",
    "    output = np.asarray(output, np.float32)\n",
    "    output = np.reshape(output, (output.shape[0], 1, SEQUENCE_LENGTH))\n",
    "    return output\n",
    "\n",
    "tokenized = [item for item in sentence]\n",
    "root = []\n",
    "if len(tokenized) <= SEQUENCE_LENGTH:\n",
    "    print(\"Input text isn't long enough!\")\n",
    "    while True:\n",
    "        pass\n",
    "    \n",
    "for i in range(int(len(tokenized) - SEQUENCE_LENGTH)):\n",
    "    root.append(normalize(tokenized[i:i+SEQUENCE_LENGTH]))\n",
    "root = np.asarray(root, np.float32)\n",
    "root = np.reshape(root, (root.shape[0], SEQUENCE_LENGTH, 1))\n",
    "\n",
    "last_input = root[root.shape[0]-1]\n",
    "\n",
    "output = sentence\n",
    "pred = model.predict(root, verbose=0)\n",
    "sequence = sentence[len(output)-SEQUENCE_LENGTH-2:len(output)-1]\n",
    "\n",
    "for i in log_progress(range(sample_length)):\n",
    "    tokenized = [item for item in sequence]\n",
    "    \n",
    "    root = []\n",
    "    for i in range(int(len(tokenized) - SEQUENCE_LENGTH)):\n",
    "        root.append(normalize(tokenized[i:i+SEQUENCE_LENGTH]))\n",
    "    root = np.asarray(root, np.float32)\n",
    "    root = np.reshape(root, (root.shape[0], SEQUENCE_LENGTH, 1))\n",
    "    \n",
    "    tmp = root[root.shape[0]-1]\n",
    "    tmp = np.reshape(tmp, (1, SEQUENCE_LENGTH, 1))\n",
    "    \n",
    "    \n",
    "    pred = model.predict(tmp, verbose=0)\n",
    "    #output += words[np.random.choice(len(pred[pred.shape[0]-1]), p=pred[pred.shape[0]-1])]\n",
    "    sequence = sequence[1:]\n",
    "    sequence += words[pred.argmax()]\n",
    "    output += words[pred.argmax()]\n",
    "\n",
    "print(output)"
   ]
  },
  {
   "cell_type": "code",
   "execution_count": null,
   "id": "11cf38a5",
   "metadata": {},
   "outputs": [],
   "source": []
  }
 ],
 "metadata": {
  "kernelspec": {
   "display_name": "Python 3 (ipykernel)",
   "language": "python",
   "name": "python3"
  },
  "language_info": {
   "codemirror_mode": {
    "name": "ipython",
    "version": 3
   },
   "file_extension": ".py",
   "mimetype": "text/x-python",
   "name": "python",
   "nbconvert_exporter": "python",
   "pygments_lexer": "ipython3",
   "version": "3.9.12"
  }
 },
 "nbformat": 4,
 "nbformat_minor": 5
}
