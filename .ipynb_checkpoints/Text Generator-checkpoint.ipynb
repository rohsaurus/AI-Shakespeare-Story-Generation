{
 "cells": [
  {
   "cell_type": "code",
   "execution_count": 1,
   "id": "cd9e966d",
   "metadata": {
    "ExecuteTime": {
     "end_time": "2022-06-17T02:28:40.759578Z",
     "start_time": "2022-06-17T02:28:30.978225Z"
    }
   },
   "outputs": [],
   "source": [
    "import tensorflow.keras\n",
    "\n",
    "from tensorflow.keras.models import Sequential\n",
    "from tensorflow.keras.models import load_model\n",
    "from tensorflow.keras.layers import Dense\n",
    "from tensorflow.keras.layers import Embedding\n",
    "from tensorflow.keras.layers import LSTM\n",
    "from tensorflow.keras.layers import Dropout\n",
    "from tensorflow.keras.layers import InputLayer\n",
    "from tensorflow.keras.layers import BatchNormalization\n",
    "\n",
    "from tensorflow.keras.optimizers import Adam\n",
    "\n",
    "from tensorflow.keras.utils import to_categorical\n",
    "\n",
    "import numpy as np\n",
    "import nltk\n",
    "from nltk.tokenize import RegexpTokenizer\n",
    "import matplotlib.pyplot as plt\n",
    "import random\n",
    "\n",
    "from tqdm.notebook import tqdm as log_progress"
   ]
  },
  {
   "cell_type": "code",
   "execution_count": 2,
   "id": "6d8fb133",
   "metadata": {
    "ExecuteTime": {
     "end_time": "2022-06-17T02:28:43.475218Z",
     "start_time": "2022-06-17T02:28:43.030317Z"
    }
   },
   "outputs": [
    {
     "name": "stdout",
     "output_type": "stream",
     "text": [
      "Loading data...\n"
     ]
    },
    {
     "data": {
      "application/vnd.jupyter.widget-view+json": {
       "model_id": "1e530c459f72471f8e15b54499d367df",
       "version_major": 2,
       "version_minor": 0
      },
      "text/plain": [
       "0it [00:00, ?it/s]"
      ]
     },
     "metadata": {},
     "output_type": "display_data"
    },
    {
     "name": "stdout",
     "output_type": "stream",
     "text": [
      "Tokenizing...\n"
     ]
    },
    {
     "data": {
      "application/vnd.jupyter.widget-view+json": {
       "model_id": "87558d9d656e429496a0c69dbcbcaec6",
       "version_major": 2,
       "version_minor": 0
      },
      "text/plain": [
       "  0%|          | 0/2309 [00:00<?, ?it/s]"
      ]
     },
     "metadata": {},
     "output_type": "display_data"
    },
    {
     "name": "stdout",
     "output_type": "stream",
     "text": [
      "Finding every unique word...\n"
     ]
    },
    {
     "data": {
      "application/vnd.jupyter.widget-view+json": {
       "model_id": "399fa2cc34cc4c72ae02cf62e9dec619",
       "version_major": 2,
       "version_minor": 0
      },
      "text/plain": [
       "  0%|          | 0/99920 [00:00<?, ?it/s]"
      ]
     },
     "metadata": {},
     "output_type": "display_data"
    },
    {
     "name": "stdout",
     "output_type": "stream",
     "text": [
      "Compiling dataset...\n"
     ]
    },
    {
     "data": {
      "application/vnd.jupyter.widget-view+json": {
       "model_id": "b71b852835234c238c45fc6298ac4253",
       "version_major": 2,
       "version_minor": 0
      },
      "text/plain": [
       "  0%|          | 0/99919 [00:00<?, ?it/s]"
      ]
     },
     "metadata": {},
     "output_type": "display_data"
    },
    {
     "name": "stdout",
     "output_type": "stream",
     "text": [
      "(99919, 1, 1)\n",
      "(99919, 62)\n"
     ]
    }
   ],
   "source": [
    "#load and clean data\n",
    "MODEL_NAME = \"Test\"\n",
    "#MODEL_NAME = 'shakespear2.0'\n",
    "data_file_name = \"data.txt\"\n",
    "SEQUENCE_LENGTH = 1 #how many items are fed into the ai per sequence\n",
    "\n",
    "raw = open(\"data/\" + data_file_name, \"r\", encoding='utf-8')\n",
    "\n",
    "lines = []\n",
    "print(\"Loading data...\")\n",
    "for line in log_progress(raw):\n",
    "    if str(line) != '\\n':\n",
    "        lines.append(str(line))\n",
    "\n",
    "print(\"Tokenizing...\")\n",
    "#putting the entirety of the input data into one string\n",
    "text = \"\"\n",
    "for line in log_progress(lines):\n",
    "    text += line\n",
    "#tokenizer = RegexpTokenizer(r'[a-zA-Z]')\n",
    "tokenizer = RegexpTokenizer(r'\\w+')\n",
    "#tokenized = tokenizer.tokenize(text)\n",
    "tokenized = [item for item in text]\n",
    "\n",
    "#converting the text into numbers to be processed by the embedding layer of the model\n",
    "words = [] #one of each word in tokenized will be in here\n",
    "filtering = lambda x : not x in words #for finding if the word should be added to the words array\n",
    "find = lambda x : float(words.index(x)) if x in words else float(len(words)) #convert each word into a number. -1 means that the item isn't in the vocabulary\n",
    "normalize = lambda x: [find(i)/len(words) for i in x]\n",
    "\n",
    "def convert_to_array(word_arr):\n",
    "    out = []\n",
    "    for i in range(len(word_arr)):\n",
    "        arr = [0] * (len(words)+1)\n",
    "        arr[i] = 1\n",
    "        out.append(arr)\n",
    "    return out\n",
    "    \n",
    "print(\"Finding every unique word...\")\n",
    "for word in log_progress(tokenized):\n",
    "    if filtering(word):\n",
    "        words.append(word)\n",
    "\n",
    "#x data is every single word in the data set, in order\n",
    "#y data is every single word that comes after the corresponding x value\n",
    "x = []\n",
    "y = []\n",
    "print(\"Compiling dataset...\")\n",
    "for i in log_progress(range(int(len(tokenized) - SEQUENCE_LENGTH))):\n",
    "    #x.append(convert_to_array(tokenized[i:i+SEQUENCE_LENGTH]))\n",
    "    \n",
    "    x.append(normalize(tokenized[i:i+SEQUENCE_LENGTH]))\n",
    "    y.append(find(tokenized[i+SEQUENCE_LENGTH]))\n",
    "\n",
    "x = np.asarray(x, np.float32)\n",
    "y = np.asarray(y, np.float32)\n",
    "\n",
    "x = np.reshape(x, (x.shape[0], 1, SEQUENCE_LENGTH))\n",
    "y = to_categorical(y)\n",
    "\n",
    "print(x.shape)\n",
    "print(y.shape)\n",
    "\n",
    "vocab_size = len(words)"
   ]
  },
  {
   "cell_type": "code",
   "execution_count": 3,
   "id": "a91298ab",
   "metadata": {
    "ExecuteTime": {
     "end_time": "2022-06-17T02:28:48.270793Z",
     "start_time": "2022-06-17T02:28:45.766352Z"
    }
   },
   "outputs": [
    {
     "name": "stdout",
     "output_type": "stream",
     "text": [
      "Model: \"sequential\"\n",
      "_________________________________________________________________\n",
      " Layer (type)                Output Shape              Param #   \n",
      "=================================================================\n",
      " lstm (LSTM)                 (None, 128)               66560     \n",
      "                                                                 \n",
      " dropout (Dropout)           (None, 128)               0         \n",
      "                                                                 \n",
      " dense (Dense)               (None, 62)                7998      \n",
      "                                                                 \n",
      "=================================================================\n",
      "Total params: 74,558\n",
      "Trainable params: 74,558\n",
      "Non-trainable params: 0\n",
      "_________________________________________________________________\n",
      "None\n"
     ]
    }
   ],
   "source": [
    "#create and compile model\n",
    "model = Sequential()\n",
    "\n",
    "model.add(LSTM(128, input_shape=(1, SEQUENCE_LENGTH)))\n",
    "model.add(Dropout(0.3))\n",
    "\n",
    "model.add(Dense(y.shape[1], activation='softmax'))\n",
    "\n",
    "opt = Adam(learning_rate=0.001)\n",
    "model.compile(optimizer=opt, loss='categorical_crossentropy', metrics=['accuracy'])\n",
    "print(model.summary())"
   ]
  },
  {
   "cell_type": "code",
   "execution_count": 5,
   "id": "3f438c67",
   "metadata": {
    "ExecuteTime": {
     "end_time": "2022-06-17T02:46:36.602547Z",
     "start_time": "2022-06-17T02:32:10.871533Z"
    },
    "scrolled": true
   },
   "outputs": [
    {
     "name": "stdout",
     "output_type": "stream",
     "text": [
      "Epoch 1/200\n",
      "1406/1406 [==============================] - 7s 5ms/step - loss: 2.8986 - accuracy: 0.2144 - val_loss: 2.8903 - val_accuracy: 0.2160\n",
      "Epoch 2/200\n",
      "1406/1406 [==============================] - 7s 5ms/step - loss: 2.8959 - accuracy: 0.2145 - val_loss: 2.8875 - val_accuracy: 0.2160\n",
      "Epoch 3/200\n",
      "1406/1406 [==============================] - 7s 5ms/step - loss: 2.8948 - accuracy: 0.2138 - val_loss: 2.8853 - val_accuracy: 0.2158\n",
      "Epoch 4/200\n",
      "1406/1406 [==============================] - 7s 5ms/step - loss: 2.8925 - accuracy: 0.2136 - val_loss: 2.8833 - val_accuracy: 0.2158\n",
      "Epoch 5/200\n",
      "1406/1406 [==============================] - 7s 5ms/step - loss: 2.8902 - accuracy: 0.2140 - val_loss: 2.8814 - val_accuracy: 0.2158\n",
      "Epoch 6/200\n",
      "1406/1406 [==============================] - 7s 5ms/step - loss: 2.8888 - accuracy: 0.2139 - val_loss: 2.8801 - val_accuracy: 0.2158\n",
      "Epoch 7/200\n",
      "1406/1406 [==============================] - 7s 5ms/step - loss: 2.8873 - accuracy: 0.2142 - val_loss: 2.8789 - val_accuracy: 0.2158\n",
      "Epoch 8/200\n",
      "1406/1406 [==============================] - 7s 5ms/step - loss: 2.8862 - accuracy: 0.2134 - val_loss: 2.8774 - val_accuracy: 0.2158\n",
      "Epoch 9/200\n",
      "1406/1406 [==============================] - 7s 5ms/step - loss: 2.8844 - accuracy: 0.2146 - val_loss: 2.8764 - val_accuracy: 0.2158\n",
      "Epoch 10/200\n",
      "1406/1406 [==============================] - 7s 5ms/step - loss: 2.8838 - accuracy: 0.2138 - val_loss: 2.8754 - val_accuracy: 0.2158\n",
      "Epoch 11/200\n",
      "1406/1406 [==============================] - 7s 5ms/step - loss: 2.8825 - accuracy: 0.2141 - val_loss: 2.8744 - val_accuracy: 0.2158\n",
      "Epoch 12/200\n",
      "1406/1406 [==============================] - 7s 5ms/step - loss: 2.8810 - accuracy: 0.2141 - val_loss: 2.8734 - val_accuracy: 0.2158\n",
      "Epoch 13/200\n",
      "1406/1406 [==============================] - 7s 5ms/step - loss: 2.8796 - accuracy: 0.2139 - val_loss: 2.8720 - val_accuracy: 0.2158\n",
      "Epoch 14/200\n",
      "1406/1406 [==============================] - 7s 5ms/step - loss: 2.8793 - accuracy: 0.2143 - val_loss: 2.8710 - val_accuracy: 0.2158\n",
      "Epoch 15/200\n",
      "1406/1406 [==============================] - 7s 5ms/step - loss: 2.8767 - accuracy: 0.2142 - val_loss: 2.8692 - val_accuracy: 0.2158\n",
      "Epoch 16/200\n",
      "1406/1406 [==============================] - 7s 5ms/step - loss: 2.8772 - accuracy: 0.2139 - val_loss: 2.8673 - val_accuracy: 0.2158\n",
      "Epoch 17/200\n",
      "1406/1406 [==============================] - 7s 5ms/step - loss: 2.8736 - accuracy: 0.2142 - val_loss: 2.8654 - val_accuracy: 0.2158\n",
      "Epoch 18/200\n",
      "1406/1406 [==============================] - 7s 5ms/step - loss: 2.8735 - accuracy: 0.2139 - val_loss: 2.8635 - val_accuracy: 0.2158\n",
      "Epoch 19/200\n",
      "1406/1406 [==============================] - 6s 5ms/step - loss: 2.8714 - accuracy: 0.2143 - val_loss: 2.8613 - val_accuracy: 0.2158\n",
      "Epoch 20/200\n",
      "1406/1406 [==============================] - 7s 5ms/step - loss: 2.8693 - accuracy: 0.2138 - val_loss: 2.8587 - val_accuracy: 0.2161\n",
      "Epoch 21/200\n",
      "1406/1406 [==============================] - 6s 5ms/step - loss: 2.8680 - accuracy: 0.2140 - val_loss: 2.8561 - val_accuracy: 0.2161\n",
      "Epoch 22/200\n",
      "1406/1406 [==============================] - 7s 5ms/step - loss: 2.8661 - accuracy: 0.2140 - val_loss: 2.8539 - val_accuracy: 0.2161\n",
      "Epoch 23/200\n",
      "1406/1406 [==============================] - 7s 5ms/step - loss: 2.8653 - accuracy: 0.2137 - val_loss: 2.8518 - val_accuracy: 0.2161\n",
      "Epoch 24/200\n",
      "1406/1406 [==============================] - 7s 5ms/step - loss: 2.8618 - accuracy: 0.2137 - val_loss: 2.8495 - val_accuracy: 0.2161\n",
      "Epoch 25/200\n",
      "1406/1406 [==============================] - 7s 5ms/step - loss: 2.8601 - accuracy: 0.2136 - val_loss: 2.8469 - val_accuracy: 0.2161\n",
      "Epoch 26/200\n",
      "1406/1406 [==============================] - 6s 5ms/step - loss: 2.8578 - accuracy: 0.2143 - val_loss: 2.8443 - val_accuracy: 0.2161\n",
      "Epoch 27/200\n",
      "1406/1406 [==============================] - 7s 5ms/step - loss: 2.8579 - accuracy: 0.2131 - val_loss: 2.8427 - val_accuracy: 0.2161\n",
      "Epoch 28/200\n",
      "1406/1406 [==============================] - 7s 5ms/step - loss: 2.8551 - accuracy: 0.2138 - val_loss: 2.8404 - val_accuracy: 0.2161\n",
      "Epoch 29/200\n",
      "1406/1406 [==============================] - 7s 5ms/step - loss: 2.8526 - accuracy: 0.2142 - val_loss: 2.8380 - val_accuracy: 0.2161\n",
      "Epoch 30/200\n",
      "1406/1406 [==============================] - 6s 5ms/step - loss: 2.8531 - accuracy: 0.2135 - val_loss: 2.8367 - val_accuracy: 0.2161\n",
      "Epoch 31/200\n",
      "1406/1406 [==============================] - 6s 5ms/step - loss: 2.8498 - accuracy: 0.2135 - val_loss: 2.8344 - val_accuracy: 0.2161\n",
      "Epoch 32/200\n",
      "1406/1406 [==============================] - 7s 5ms/step - loss: 2.8486 - accuracy: 0.2137 - val_loss: 2.8324 - val_accuracy: 0.2161\n",
      "Epoch 33/200\n",
      "1406/1406 [==============================] - 6s 5ms/step - loss: 2.8481 - accuracy: 0.2132 - val_loss: 2.8307 - val_accuracy: 0.2137\n",
      "Epoch 34/200\n",
      "1406/1406 [==============================] - 7s 5ms/step - loss: 2.8456 - accuracy: 0.2131 - val_loss: 2.8288 - val_accuracy: 0.2137\n",
      "Epoch 35/200\n",
      "1406/1406 [==============================] - 7s 5ms/step - loss: 2.8436 - accuracy: 0.2131 - val_loss: 2.8271 - val_accuracy: 0.2137\n",
      "Epoch 36/200\n",
      "1406/1406 [==============================] - 7s 5ms/step - loss: 2.8414 - accuracy: 0.2138 - val_loss: 2.8255 - val_accuracy: 0.2137\n",
      "Epoch 37/200\n",
      "1406/1406 [==============================] - 7s 5ms/step - loss: 2.8405 - accuracy: 0.2137 - val_loss: 2.8234 - val_accuracy: 0.2137\n",
      "Epoch 38/200\n",
      "1406/1406 [==============================] - 7s 5ms/step - loss: 2.8396 - accuracy: 0.2134 - val_loss: 2.8218 - val_accuracy: 0.2137\n",
      "Epoch 39/200\n",
      "1406/1406 [==============================] - 7s 5ms/step - loss: 2.8371 - accuracy: 0.2134 - val_loss: 2.8201 - val_accuracy: 0.2137\n",
      "Epoch 40/200\n",
      "1406/1406 [==============================] - 7s 5ms/step - loss: 2.8388 - accuracy: 0.2136 - val_loss: 2.8188 - val_accuracy: 0.2143\n",
      "Epoch 41/200\n",
      "1406/1406 [==============================] - 6s 5ms/step - loss: 2.8353 - accuracy: 0.2134 - val_loss: 2.8170 - val_accuracy: 0.2137\n",
      "Epoch 42/200\n",
      "1406/1406 [==============================] - 6s 5ms/step - loss: 2.8335 - accuracy: 0.2147 - val_loss: 2.8152 - val_accuracy: 0.2143\n",
      "Epoch 43/200\n",
      "1406/1406 [==============================] - 6s 4ms/step - loss: 2.8321 - accuracy: 0.2139 - val_loss: 2.8137 - val_accuracy: 0.2143\n",
      "Epoch 44/200\n",
      "1406/1406 [==============================] - 6s 4ms/step - loss: 2.8312 - accuracy: 0.2136 - val_loss: 2.8126 - val_accuracy: 0.2143\n",
      "Epoch 45/200\n",
      "1406/1406 [==============================] - 6s 5ms/step - loss: 2.8291 - accuracy: 0.2136 - val_loss: 2.8108 - val_accuracy: 0.2143\n",
      "Epoch 46/200\n",
      "1406/1406 [==============================] - 6s 5ms/step - loss: 2.8293 - accuracy: 0.2139 - val_loss: 2.8100 - val_accuracy: 0.2143\n",
      "Epoch 47/200\n",
      "1406/1406 [==============================] - 6s 5ms/step - loss: 2.8280 - accuracy: 0.2142 - val_loss: 2.8083 - val_accuracy: 0.2143\n",
      "Epoch 48/200\n",
      "1406/1406 [==============================] - 6s 5ms/step - loss: 2.8265 - accuracy: 0.2139 - val_loss: 2.8071 - val_accuracy: 0.2143\n",
      "Epoch 49/200\n",
      "1406/1406 [==============================] - 6s 5ms/step - loss: 2.8261 - accuracy: 0.2134 - val_loss: 2.8062 - val_accuracy: 0.2146\n",
      "Epoch 50/200\n",
      "1406/1406 [==============================] - 6s 5ms/step - loss: 2.8240 - accuracy: 0.2128 - val_loss: 2.8047 - val_accuracy: 0.2146\n",
      "Epoch 51/200\n",
      "1406/1406 [==============================] - 6s 5ms/step - loss: 2.8243 - accuracy: 0.2129 - val_loss: 2.8037 - val_accuracy: 0.2146\n",
      "Epoch 52/200\n",
      "1406/1406 [==============================] - 6s 5ms/step - loss: 2.8209 - accuracy: 0.2136 - val_loss: 2.8025 - val_accuracy: 0.2146\n",
      "Epoch 53/200\n",
      "1406/1406 [==============================] - 7s 5ms/step - loss: 2.8220 - accuracy: 0.2129 - val_loss: 2.8017 - val_accuracy: 0.2129\n",
      "Epoch 54/200\n",
      "1406/1406 [==============================] - 6s 4ms/step - loss: 2.8213 - accuracy: 0.2119 - val_loss: 2.8009 - val_accuracy: 0.2129\n",
      "Epoch 55/200\n",
      "1406/1406 [==============================] - 7s 5ms/step - loss: 2.8192 - accuracy: 0.2126 - val_loss: 2.7999 - val_accuracy: 0.2129\n",
      "Epoch 56/200\n",
      "1406/1406 [==============================] - 7s 5ms/step - loss: 2.8184 - accuracy: 0.2117 - val_loss: 2.7986 - val_accuracy: 0.2204\n",
      "Epoch 57/200\n",
      "1406/1406 [==============================] - 7s 5ms/step - loss: 2.8162 - accuracy: 0.2117 - val_loss: 2.7976 - val_accuracy: 0.2204\n",
      "Epoch 58/200\n",
      "1406/1406 [==============================] - 7s 5ms/step - loss: 2.8174 - accuracy: 0.2120 - val_loss: 2.7962 - val_accuracy: 0.2129\n",
      "Epoch 59/200\n",
      "1406/1406 [==============================] - 7s 5ms/step - loss: 2.8164 - accuracy: 0.2112 - val_loss: 2.7954 - val_accuracy: 0.2204\n",
      "Epoch 60/200\n",
      "1406/1406 [==============================] - 7s 5ms/step - loss: 2.8162 - accuracy: 0.2121 - val_loss: 2.7947 - val_accuracy: 0.2204\n",
      "Epoch 61/200\n",
      "1406/1406 [==============================] - 7s 5ms/step - loss: 2.8144 - accuracy: 0.2113 - val_loss: 2.7942 - val_accuracy: 0.2204\n",
      "Epoch 62/200\n",
      "1406/1406 [==============================] - 7s 5ms/step - loss: 2.8131 - accuracy: 0.2123 - val_loss: 2.7930 - val_accuracy: 0.2204\n",
      "Epoch 63/200\n",
      "1406/1406 [==============================] - 7s 5ms/step - loss: 2.8142 - accuracy: 0.2105 - val_loss: 2.7925 - val_accuracy: 0.2204\n",
      "Epoch 64/200\n",
      "1406/1406 [==============================] - 7s 5ms/step - loss: 2.8114 - accuracy: 0.2115 - val_loss: 2.7912 - val_accuracy: 0.2204\n",
      "Epoch 65/200\n",
      "1406/1406 [==============================] - 6s 5ms/step - loss: 2.8121 - accuracy: 0.2113 - val_loss: 2.7904 - val_accuracy: 0.2129\n",
      "Epoch 66/200\n",
      "1406/1406 [==============================] - 7s 5ms/step - loss: 2.8105 - accuracy: 0.2110 - val_loss: 2.7901 - val_accuracy: 0.2204\n",
      "Epoch 67/200\n",
      "1406/1406 [==============================] - 7s 5ms/step - loss: 2.8100 - accuracy: 0.2107 - val_loss: 2.7891 - val_accuracy: 0.2204\n",
      "Epoch 68/200\n",
      "1406/1406 [==============================] - 7s 5ms/step - loss: 2.8092 - accuracy: 0.2115 - val_loss: 2.7882 - val_accuracy: 0.2204\n",
      "Epoch 69/200\n",
      "1406/1406 [==============================] - 7s 5ms/step - loss: 2.8083 - accuracy: 0.2116 - val_loss: 2.7872 - val_accuracy: 0.2204\n",
      "Epoch 70/200\n",
      "1406/1406 [==============================] - 7s 5ms/step - loss: 2.8095 - accuracy: 0.2105 - val_loss: 2.7871 - val_accuracy: 0.2204\n",
      "Epoch 71/200\n",
      "1406/1406 [==============================] - 7s 5ms/step - loss: 2.8060 - accuracy: 0.2104 - val_loss: 2.7859 - val_accuracy: 0.2204\n",
      "Epoch 72/200\n",
      "1406/1406 [==============================] - 7s 5ms/step - loss: 2.8060 - accuracy: 0.2100 - val_loss: 2.7851 - val_accuracy: 0.2204\n",
      "Epoch 73/200\n",
      "1406/1406 [==============================] - 7s 5ms/step - loss: 2.8060 - accuracy: 0.2094 - val_loss: 2.7844 - val_accuracy: 0.2188\n",
      "Epoch 74/200\n",
      "1406/1406 [==============================] - 7s 5ms/step - loss: 2.8058 - accuracy: 0.2095 - val_loss: 2.7838 - val_accuracy: 0.2204\n",
      "Epoch 75/200\n",
      "1406/1406 [==============================] - 7s 5ms/step - loss: 2.8047 - accuracy: 0.2110 - val_loss: 2.7837 - val_accuracy: 0.2204\n",
      "Epoch 76/200\n",
      "1406/1406 [==============================] - 7s 5ms/step - loss: 2.8035 - accuracy: 0.2107 - val_loss: 2.7826 - val_accuracy: 0.2188\n",
      "Epoch 77/200\n",
      "1406/1406 [==============================] - 7s 5ms/step - loss: 2.8047 - accuracy: 0.2096 - val_loss: 2.7821 - val_accuracy: 0.2204\n",
      "Epoch 78/200\n",
      "1406/1406 [==============================] - 7s 5ms/step - loss: 2.8048 - accuracy: 0.2097 - val_loss: 2.7816 - val_accuracy: 0.2204\n",
      "Epoch 79/200\n",
      "1406/1406 [==============================] - 7s 5ms/step - loss: 2.8027 - accuracy: 0.2111 - val_loss: 2.7810 - val_accuracy: 0.2204\n",
      "Epoch 80/200\n",
      "1406/1406 [==============================] - 7s 5ms/step - loss: 2.8030 - accuracy: 0.2104 - val_loss: 2.7806 - val_accuracy: 0.2204\n",
      "Epoch 81/200\n",
      "1406/1406 [==============================] - 7s 5ms/step - loss: 2.7998 - accuracy: 0.2096 - val_loss: 2.7796 - val_accuracy: 0.2188\n",
      "Epoch 82/200\n",
      "1406/1406 [==============================] - 7s 5ms/step - loss: 2.8019 - accuracy: 0.2101 - val_loss: 2.7792 - val_accuracy: 0.2188\n",
      "Epoch 83/200\n",
      "1406/1406 [==============================] - 7s 5ms/step - loss: 2.8005 - accuracy: 0.2106 - val_loss: 2.7780 - val_accuracy: 0.2204\n",
      "Epoch 84/200\n",
      "1406/1406 [==============================] - 7s 5ms/step - loss: 2.8007 - accuracy: 0.2095 - val_loss: 2.7779 - val_accuracy: 0.2204\n",
      "Epoch 85/200\n",
      "1406/1406 [==============================] - 7s 5ms/step - loss: 2.7996 - accuracy: 0.2096 - val_loss: 2.7776 - val_accuracy: 0.2188\n",
      "Epoch 86/200\n",
      "1406/1406 [==============================] - 7s 5ms/step - loss: 2.8003 - accuracy: 0.2111 - val_loss: 2.7771 - val_accuracy: 0.2188\n",
      "Epoch 87/200\n",
      "1406/1406 [==============================] - 7s 5ms/step - loss: 2.7999 - accuracy: 0.2092 - val_loss: 2.7766 - val_accuracy: 0.2204\n",
      "Epoch 88/200\n",
      "1406/1406 [==============================] - 7s 5ms/step - loss: 2.7978 - accuracy: 0.2098 - val_loss: 2.7756 - val_accuracy: 0.2188\n",
      "Epoch 89/200\n",
      "1406/1406 [==============================] - 7s 5ms/step - loss: 2.7969 - accuracy: 0.2101 - val_loss: 2.7754 - val_accuracy: 0.2188\n",
      "Epoch 90/200\n",
      "1406/1406 [==============================] - 6s 5ms/step - loss: 2.7966 - accuracy: 0.2097 - val_loss: 2.7747 - val_accuracy: 0.2188\n",
      "Epoch 91/200\n",
      "1406/1406 [==============================] - 7s 5ms/step - loss: 2.7978 - accuracy: 0.2097 - val_loss: 2.7745 - val_accuracy: 0.2188\n",
      "Epoch 92/200\n",
      "1406/1406 [==============================] - 7s 5ms/step - loss: 2.7975 - accuracy: 0.2092 - val_loss: 2.7743 - val_accuracy: 0.2188\n",
      "Epoch 93/200\n",
      "1406/1406 [==============================] - 6s 5ms/step - loss: 2.7951 - accuracy: 0.2105 - val_loss: 2.7734 - val_accuracy: 0.2188\n",
      "Epoch 94/200\n",
      "1406/1406 [==============================] - 7s 5ms/step - loss: 2.7944 - accuracy: 0.2096 - val_loss: 2.7727 - val_accuracy: 0.2188\n",
      "Epoch 95/200\n",
      "1406/1406 [==============================] - 7s 5ms/step - loss: 2.7948 - accuracy: 0.2099 - val_loss: 2.7720 - val_accuracy: 0.2188\n",
      "Epoch 96/200\n",
      "1406/1406 [==============================] - 6s 5ms/step - loss: 2.7941 - accuracy: 0.2102 - val_loss: 2.7717 - val_accuracy: 0.2188\n",
      "Epoch 97/200\n",
      "1406/1406 [==============================] - 7s 5ms/step - loss: 2.7948 - accuracy: 0.2095 - val_loss: 2.7713 - val_accuracy: 0.2188\n",
      "Epoch 98/200\n",
      "1406/1406 [==============================] - 7s 5ms/step - loss: 2.7939 - accuracy: 0.2099 - val_loss: 2.7708 - val_accuracy: 0.2188\n",
      "Epoch 99/200\n",
      "1406/1406 [==============================] - 7s 5ms/step - loss: 2.7935 - accuracy: 0.2101 - val_loss: 2.7706 - val_accuracy: 0.2188\n",
      "Epoch 100/200\n",
      "1406/1406 [==============================] - 7s 5ms/step - loss: 2.7922 - accuracy: 0.2099 - val_loss: 2.7697 - val_accuracy: 0.2187\n",
      "Epoch 101/200\n",
      "1406/1406 [==============================] - 7s 5ms/step - loss: 2.7923 - accuracy: 0.2089 - val_loss: 2.7694 - val_accuracy: 0.2188\n",
      "Epoch 102/200\n",
      "1406/1406 [==============================] - 7s 5ms/step - loss: 2.7940 - accuracy: 0.2090 - val_loss: 2.7690 - val_accuracy: 0.2187\n",
      "Epoch 103/200\n",
      "1406/1406 [==============================] - 7s 5ms/step - loss: 2.7914 - accuracy: 0.2100 - val_loss: 2.7685 - val_accuracy: 0.2188\n",
      "Epoch 104/200\n",
      "1406/1406 [==============================] - 7s 5ms/step - loss: 2.7908 - accuracy: 0.2107 - val_loss: 2.7677 - val_accuracy: 0.2188\n",
      "Epoch 105/200\n",
      "1406/1406 [==============================] - 7s 5ms/step - loss: 2.7897 - accuracy: 0.2105 - val_loss: 2.7673 - val_accuracy: 0.2187\n",
      "Epoch 106/200\n",
      "1406/1406 [==============================] - 7s 5ms/step - loss: 2.7885 - accuracy: 0.2097 - val_loss: 2.7667 - val_accuracy: 0.2187\n",
      "Epoch 107/200\n",
      "1406/1406 [==============================] - 7s 5ms/step - loss: 2.7893 - accuracy: 0.2106 - val_loss: 2.7659 - val_accuracy: 0.2188\n",
      "Epoch 108/200\n",
      "1406/1406 [==============================] - 7s 5ms/step - loss: 2.7905 - accuracy: 0.2089 - val_loss: 2.7662 - val_accuracy: 0.2187\n",
      "Epoch 109/200\n",
      "1406/1406 [==============================] - 7s 5ms/step - loss: 2.7888 - accuracy: 0.2100 - val_loss: 2.7653 - val_accuracy: 0.2188\n",
      "Epoch 110/200\n",
      "1406/1406 [==============================] - 7s 5ms/step - loss: 2.7879 - accuracy: 0.2089 - val_loss: 2.7647 - val_accuracy: 0.2187\n",
      "Epoch 111/200\n",
      "1406/1406 [==============================] - 7s 5ms/step - loss: 2.7891 - accuracy: 0.2100 - val_loss: 2.7644 - val_accuracy: 0.2187\n",
      "Epoch 112/200\n",
      "1406/1406 [==============================] - 7s 5ms/step - loss: 2.7876 - accuracy: 0.2099 - val_loss: 2.7644 - val_accuracy: 0.2187\n",
      "Epoch 113/200\n"
     ]
    },
    {
     "name": "stdout",
     "output_type": "stream",
     "text": [
      "1406/1406 [==============================] - 7s 5ms/step - loss: 2.7885 - accuracy: 0.2098 - val_loss: 2.7637 - val_accuracy: 0.2187\n",
      "Epoch 114/200\n",
      "1406/1406 [==============================] - 7s 5ms/step - loss: 2.7859 - accuracy: 0.2096 - val_loss: 2.7631 - val_accuracy: 0.2187\n",
      "Epoch 115/200\n",
      "1406/1406 [==============================] - 7s 5ms/step - loss: 2.7873 - accuracy: 0.2092 - val_loss: 2.7629 - val_accuracy: 0.2187\n",
      "Epoch 116/200\n",
      "1406/1406 [==============================] - 7s 5ms/step - loss: 2.7865 - accuracy: 0.2092 - val_loss: 2.7627 - val_accuracy: 0.2187\n",
      "Epoch 117/200\n",
      "1406/1406 [==============================] - 7s 5ms/step - loss: 2.7859 - accuracy: 0.2098 - val_loss: 2.7615 - val_accuracy: 0.2188\n",
      "Epoch 118/200\n",
      "1406/1406 [==============================] - 7s 5ms/step - loss: 2.7854 - accuracy: 0.2109 - val_loss: 2.7611 - val_accuracy: 0.2187\n",
      "Epoch 119/200\n",
      "1406/1406 [==============================] - 7s 5ms/step - loss: 2.7852 - accuracy: 0.2100 - val_loss: 2.7607 - val_accuracy: 0.2187\n",
      "Epoch 120/200\n",
      "1406/1406 [==============================] - 7s 5ms/step - loss: 2.7846 - accuracy: 0.2105 - val_loss: 2.7606 - val_accuracy: 0.2187\n",
      "Epoch 121/200\n",
      "1406/1406 [==============================] - 7s 5ms/step - loss: 2.7839 - accuracy: 0.2103 - val_loss: 2.7601 - val_accuracy: 0.2187\n",
      "Epoch 122/200\n",
      "1406/1406 [==============================] - 8s 6ms/step - loss: 2.7841 - accuracy: 0.2111 - val_loss: 2.7596 - val_accuracy: 0.2187\n",
      "Epoch 123/200\n",
      "1406/1406 [==============================] - 7s 5ms/step - loss: 2.7830 - accuracy: 0.2109 - val_loss: 2.7597 - val_accuracy: 0.2187\n",
      "Epoch 124/200\n",
      "1406/1406 [==============================] - 7s 5ms/step - loss: 2.7838 - accuracy: 0.2099 - val_loss: 2.7593 - val_accuracy: 0.2187\n",
      "Epoch 125/200\n",
      "1406/1406 [==============================] - 7s 5ms/step - loss: 2.7824 - accuracy: 0.2113 - val_loss: 2.7590 - val_accuracy: 0.2187\n",
      "Epoch 126/200\n",
      "1406/1406 [==============================] - 7s 5ms/step - loss: 2.7816 - accuracy: 0.2108 - val_loss: 2.7584 - val_accuracy: 0.2187\n",
      "Epoch 127/200\n",
      "1406/1406 [==============================] - 7s 5ms/step - loss: 2.7809 - accuracy: 0.2107 - val_loss: 2.7576 - val_accuracy: 0.2187\n",
      "Epoch 128/200\n",
      " 532/1406 [==========>...................] - ETA: 4s - loss: 2.7718 - accuracy: 0.2089"
     ]
    },
    {
     "ename": "KeyboardInterrupt",
     "evalue": "",
     "output_type": "error",
     "traceback": [
      "\u001b[1;31m---------------------------------------------------------------------------\u001b[0m",
      "\u001b[1;31mKeyboardInterrupt\u001b[0m                         Traceback (most recent call last)",
      "Input \u001b[1;32mIn [5]\u001b[0m, in \u001b[0;36m<cell line: 2>\u001b[1;34m()\u001b[0m\n\u001b[0;32m      1\u001b[0m \u001b[38;5;66;03m#train model\u001b[39;00m\n\u001b[1;32m----> 2\u001b[0m hist \u001b[38;5;241m=\u001b[39m \u001b[43mmodel\u001b[49m\u001b[38;5;241;43m.\u001b[39;49m\u001b[43mfit\u001b[49m\u001b[43m(\u001b[49m\u001b[43mx\u001b[49m\u001b[43m,\u001b[49m\u001b[43m \u001b[49m\u001b[43my\u001b[49m\u001b[43m,\u001b[49m\u001b[43m \u001b[49m\u001b[43mepochs\u001b[49m\u001b[38;5;241;43m=\u001b[39;49m\u001b[38;5;241;43m200\u001b[39;49m\u001b[43m,\u001b[49m\u001b[43m \u001b[49m\u001b[43mverbose\u001b[49m\u001b[38;5;241;43m=\u001b[39;49m\u001b[38;5;241;43m1\u001b[39;49m\u001b[43m,\u001b[49m\u001b[43m \u001b[49m\u001b[43mbatch_size\u001b[49m\u001b[38;5;241;43m=\u001b[39;49m\u001b[38;5;241;43m64\u001b[39;49m\u001b[43m,\u001b[49m\u001b[43m \u001b[49m\u001b[43mshuffle\u001b[49m\u001b[38;5;241;43m=\u001b[39;49m\u001b[38;5;28;43;01mFalse\u001b[39;49;00m\u001b[43m,\u001b[49m\u001b[43m \u001b[49m\u001b[43mvalidation_split\u001b[49m\u001b[38;5;241;43m=\u001b[39;49m\u001b[38;5;241;43m0.1\u001b[39;49m\u001b[43m)\u001b[49m\n\u001b[0;32m      3\u001b[0m model\u001b[38;5;241m.\u001b[39msave(MODEL_NAME \u001b[38;5;241m+\u001b[39m \u001b[38;5;124m\"\u001b[39m\u001b[38;5;124m.h5\u001b[39m\u001b[38;5;124m\"\u001b[39m)\n\u001b[0;32m      5\u001b[0m plt\u001b[38;5;241m.\u001b[39mtitle(\u001b[38;5;124m\"\u001b[39m\u001b[38;5;124mloss\u001b[39m\u001b[38;5;124m\"\u001b[39m)\n",
      "File \u001b[1;32m~\\miniconda3\\envs\\tf\\lib\\site-packages\\keras\\utils\\traceback_utils.py:64\u001b[0m, in \u001b[0;36mfilter_traceback.<locals>.error_handler\u001b[1;34m(*args, **kwargs)\u001b[0m\n\u001b[0;32m     62\u001b[0m filtered_tb \u001b[38;5;241m=\u001b[39m \u001b[38;5;28;01mNone\u001b[39;00m\n\u001b[0;32m     63\u001b[0m \u001b[38;5;28;01mtry\u001b[39;00m:\n\u001b[1;32m---> 64\u001b[0m   \u001b[38;5;28;01mreturn\u001b[39;00m fn(\u001b[38;5;241m*\u001b[39margs, \u001b[38;5;241m*\u001b[39m\u001b[38;5;241m*\u001b[39mkwargs)\n\u001b[0;32m     65\u001b[0m \u001b[38;5;28;01mexcept\u001b[39;00m \u001b[38;5;167;01mException\u001b[39;00m \u001b[38;5;28;01mas\u001b[39;00m e:  \u001b[38;5;66;03m# pylint: disable=broad-except\u001b[39;00m\n\u001b[0;32m     66\u001b[0m   filtered_tb \u001b[38;5;241m=\u001b[39m _process_traceback_frames(e\u001b[38;5;241m.\u001b[39m__traceback__)\n",
      "File \u001b[1;32m~\\miniconda3\\envs\\tf\\lib\\site-packages\\keras\\engine\\training.py:1409\u001b[0m, in \u001b[0;36mModel.fit\u001b[1;34m(self, x, y, batch_size, epochs, verbose, callbacks, validation_split, validation_data, shuffle, class_weight, sample_weight, initial_epoch, steps_per_epoch, validation_steps, validation_batch_size, validation_freq, max_queue_size, workers, use_multiprocessing)\u001b[0m\n\u001b[0;32m   1402\u001b[0m \u001b[38;5;28;01mwith\u001b[39;00m tf\u001b[38;5;241m.\u001b[39mprofiler\u001b[38;5;241m.\u001b[39mexperimental\u001b[38;5;241m.\u001b[39mTrace(\n\u001b[0;32m   1403\u001b[0m     \u001b[38;5;124m'\u001b[39m\u001b[38;5;124mtrain\u001b[39m\u001b[38;5;124m'\u001b[39m,\n\u001b[0;32m   1404\u001b[0m     epoch_num\u001b[38;5;241m=\u001b[39mepoch,\n\u001b[0;32m   1405\u001b[0m     step_num\u001b[38;5;241m=\u001b[39mstep,\n\u001b[0;32m   1406\u001b[0m     batch_size\u001b[38;5;241m=\u001b[39mbatch_size,\n\u001b[0;32m   1407\u001b[0m     _r\u001b[38;5;241m=\u001b[39m\u001b[38;5;241m1\u001b[39m):\n\u001b[0;32m   1408\u001b[0m   callbacks\u001b[38;5;241m.\u001b[39mon_train_batch_begin(step)\n\u001b[1;32m-> 1409\u001b[0m   tmp_logs \u001b[38;5;241m=\u001b[39m \u001b[38;5;28;43mself\u001b[39;49m\u001b[38;5;241;43m.\u001b[39;49m\u001b[43mtrain_function\u001b[49m\u001b[43m(\u001b[49m\u001b[43miterator\u001b[49m\u001b[43m)\u001b[49m\n\u001b[0;32m   1410\u001b[0m   \u001b[38;5;28;01mif\u001b[39;00m data_handler\u001b[38;5;241m.\u001b[39mshould_sync:\n\u001b[0;32m   1411\u001b[0m     context\u001b[38;5;241m.\u001b[39masync_wait()\n",
      "File \u001b[1;32m~\\miniconda3\\envs\\tf\\lib\\site-packages\\tensorflow\\python\\util\\traceback_utils.py:150\u001b[0m, in \u001b[0;36mfilter_traceback.<locals>.error_handler\u001b[1;34m(*args, **kwargs)\u001b[0m\n\u001b[0;32m    148\u001b[0m filtered_tb \u001b[38;5;241m=\u001b[39m \u001b[38;5;28;01mNone\u001b[39;00m\n\u001b[0;32m    149\u001b[0m \u001b[38;5;28;01mtry\u001b[39;00m:\n\u001b[1;32m--> 150\u001b[0m   \u001b[38;5;28;01mreturn\u001b[39;00m fn(\u001b[38;5;241m*\u001b[39margs, \u001b[38;5;241m*\u001b[39m\u001b[38;5;241m*\u001b[39mkwargs)\n\u001b[0;32m    151\u001b[0m \u001b[38;5;28;01mexcept\u001b[39;00m \u001b[38;5;167;01mException\u001b[39;00m \u001b[38;5;28;01mas\u001b[39;00m e:\n\u001b[0;32m    152\u001b[0m   filtered_tb \u001b[38;5;241m=\u001b[39m _process_traceback_frames(e\u001b[38;5;241m.\u001b[39m__traceback__)\n",
      "File \u001b[1;32m~\\miniconda3\\envs\\tf\\lib\\site-packages\\tensorflow\\python\\eager\\def_function.py:915\u001b[0m, in \u001b[0;36mFunction.__call__\u001b[1;34m(self, *args, **kwds)\u001b[0m\n\u001b[0;32m    912\u001b[0m compiler \u001b[38;5;241m=\u001b[39m \u001b[38;5;124m\"\u001b[39m\u001b[38;5;124mxla\u001b[39m\u001b[38;5;124m\"\u001b[39m \u001b[38;5;28;01mif\u001b[39;00m \u001b[38;5;28mself\u001b[39m\u001b[38;5;241m.\u001b[39m_jit_compile \u001b[38;5;28;01melse\u001b[39;00m \u001b[38;5;124m\"\u001b[39m\u001b[38;5;124mnonXla\u001b[39m\u001b[38;5;124m\"\u001b[39m\n\u001b[0;32m    914\u001b[0m \u001b[38;5;28;01mwith\u001b[39;00m OptionalXlaContext(\u001b[38;5;28mself\u001b[39m\u001b[38;5;241m.\u001b[39m_jit_compile):\n\u001b[1;32m--> 915\u001b[0m   result \u001b[38;5;241m=\u001b[39m \u001b[38;5;28mself\u001b[39m\u001b[38;5;241m.\u001b[39m_call(\u001b[38;5;241m*\u001b[39margs, \u001b[38;5;241m*\u001b[39m\u001b[38;5;241m*\u001b[39mkwds)\n\u001b[0;32m    917\u001b[0m new_tracing_count \u001b[38;5;241m=\u001b[39m \u001b[38;5;28mself\u001b[39m\u001b[38;5;241m.\u001b[39mexperimental_get_tracing_count()\n\u001b[0;32m    918\u001b[0m without_tracing \u001b[38;5;241m=\u001b[39m (tracing_count \u001b[38;5;241m==\u001b[39m new_tracing_count)\n",
      "File \u001b[1;32m~\\miniconda3\\envs\\tf\\lib\\site-packages\\tensorflow\\python\\eager\\def_function.py:947\u001b[0m, in \u001b[0;36mFunction._call\u001b[1;34m(self, *args, **kwds)\u001b[0m\n\u001b[0;32m    944\u001b[0m   \u001b[38;5;28mself\u001b[39m\u001b[38;5;241m.\u001b[39m_lock\u001b[38;5;241m.\u001b[39mrelease()\n\u001b[0;32m    945\u001b[0m   \u001b[38;5;66;03m# In this case we have created variables on the first call, so we run the\u001b[39;00m\n\u001b[0;32m    946\u001b[0m   \u001b[38;5;66;03m# defunned version which is guaranteed to never create variables.\u001b[39;00m\n\u001b[1;32m--> 947\u001b[0m   \u001b[38;5;28;01mreturn\u001b[39;00m \u001b[38;5;28mself\u001b[39m\u001b[38;5;241m.\u001b[39m_stateless_fn(\u001b[38;5;241m*\u001b[39margs, \u001b[38;5;241m*\u001b[39m\u001b[38;5;241m*\u001b[39mkwds)  \u001b[38;5;66;03m# pylint: disable=not-callable\u001b[39;00m\n\u001b[0;32m    948\u001b[0m \u001b[38;5;28;01melif\u001b[39;00m \u001b[38;5;28mself\u001b[39m\u001b[38;5;241m.\u001b[39m_stateful_fn \u001b[38;5;129;01mis\u001b[39;00m \u001b[38;5;129;01mnot\u001b[39;00m \u001b[38;5;28;01mNone\u001b[39;00m:\n\u001b[0;32m    949\u001b[0m   \u001b[38;5;66;03m# Release the lock early so that multiple threads can perform the call\u001b[39;00m\n\u001b[0;32m    950\u001b[0m   \u001b[38;5;66;03m# in parallel.\u001b[39;00m\n\u001b[0;32m    951\u001b[0m   \u001b[38;5;28mself\u001b[39m\u001b[38;5;241m.\u001b[39m_lock\u001b[38;5;241m.\u001b[39mrelease()\n",
      "File \u001b[1;32m~\\miniconda3\\envs\\tf\\lib\\site-packages\\tensorflow\\python\\eager\\function.py:2453\u001b[0m, in \u001b[0;36mFunction.__call__\u001b[1;34m(self, *args, **kwargs)\u001b[0m\n\u001b[0;32m   2450\u001b[0m \u001b[38;5;28;01mwith\u001b[39;00m \u001b[38;5;28mself\u001b[39m\u001b[38;5;241m.\u001b[39m_lock:\n\u001b[0;32m   2451\u001b[0m   (graph_function,\n\u001b[0;32m   2452\u001b[0m    filtered_flat_args) \u001b[38;5;241m=\u001b[39m \u001b[38;5;28mself\u001b[39m\u001b[38;5;241m.\u001b[39m_maybe_define_function(args, kwargs)\n\u001b[1;32m-> 2453\u001b[0m \u001b[38;5;28;01mreturn\u001b[39;00m \u001b[43mgraph_function\u001b[49m\u001b[38;5;241;43m.\u001b[39;49m\u001b[43m_call_flat\u001b[49m\u001b[43m(\u001b[49m\n\u001b[0;32m   2454\u001b[0m \u001b[43m    \u001b[49m\u001b[43mfiltered_flat_args\u001b[49m\u001b[43m,\u001b[49m\u001b[43m \u001b[49m\u001b[43mcaptured_inputs\u001b[49m\u001b[38;5;241;43m=\u001b[39;49m\u001b[43mgraph_function\u001b[49m\u001b[38;5;241;43m.\u001b[39;49m\u001b[43mcaptured_inputs\u001b[49m\u001b[43m)\u001b[49m\n",
      "File \u001b[1;32m~\\miniconda3\\envs\\tf\\lib\\site-packages\\tensorflow\\python\\eager\\function.py:1860\u001b[0m, in \u001b[0;36mConcreteFunction._call_flat\u001b[1;34m(self, args, captured_inputs, cancellation_manager)\u001b[0m\n\u001b[0;32m   1856\u001b[0m possible_gradient_type \u001b[38;5;241m=\u001b[39m gradients_util\u001b[38;5;241m.\u001b[39mPossibleTapeGradientTypes(args)\n\u001b[0;32m   1857\u001b[0m \u001b[38;5;28;01mif\u001b[39;00m (possible_gradient_type \u001b[38;5;241m==\u001b[39m gradients_util\u001b[38;5;241m.\u001b[39mPOSSIBLE_GRADIENT_TYPES_NONE\n\u001b[0;32m   1858\u001b[0m     \u001b[38;5;129;01mand\u001b[39;00m executing_eagerly):\n\u001b[0;32m   1859\u001b[0m   \u001b[38;5;66;03m# No tape is watching; skip to running the function.\u001b[39;00m\n\u001b[1;32m-> 1860\u001b[0m   \u001b[38;5;28;01mreturn\u001b[39;00m \u001b[38;5;28mself\u001b[39m\u001b[38;5;241m.\u001b[39m_build_call_outputs(\u001b[38;5;28;43mself\u001b[39;49m\u001b[38;5;241;43m.\u001b[39;49m\u001b[43m_inference_function\u001b[49m\u001b[38;5;241;43m.\u001b[39;49m\u001b[43mcall\u001b[49m\u001b[43m(\u001b[49m\n\u001b[0;32m   1861\u001b[0m \u001b[43m      \u001b[49m\u001b[43mctx\u001b[49m\u001b[43m,\u001b[49m\u001b[43m \u001b[49m\u001b[43margs\u001b[49m\u001b[43m,\u001b[49m\u001b[43m \u001b[49m\u001b[43mcancellation_manager\u001b[49m\u001b[38;5;241;43m=\u001b[39;49m\u001b[43mcancellation_manager\u001b[49m\u001b[43m)\u001b[49m)\n\u001b[0;32m   1862\u001b[0m forward_backward \u001b[38;5;241m=\u001b[39m \u001b[38;5;28mself\u001b[39m\u001b[38;5;241m.\u001b[39m_select_forward_and_backward_functions(\n\u001b[0;32m   1863\u001b[0m     args,\n\u001b[0;32m   1864\u001b[0m     possible_gradient_type,\n\u001b[0;32m   1865\u001b[0m     executing_eagerly)\n\u001b[0;32m   1866\u001b[0m forward_function, args_with_tangents \u001b[38;5;241m=\u001b[39m forward_backward\u001b[38;5;241m.\u001b[39mforward()\n",
      "File \u001b[1;32m~\\miniconda3\\envs\\tf\\lib\\site-packages\\tensorflow\\python\\eager\\function.py:497\u001b[0m, in \u001b[0;36m_EagerDefinedFunction.call\u001b[1;34m(self, ctx, args, cancellation_manager)\u001b[0m\n\u001b[0;32m    495\u001b[0m \u001b[38;5;28;01mwith\u001b[39;00m _InterpolateFunctionError(\u001b[38;5;28mself\u001b[39m):\n\u001b[0;32m    496\u001b[0m   \u001b[38;5;28;01mif\u001b[39;00m cancellation_manager \u001b[38;5;129;01mis\u001b[39;00m \u001b[38;5;28;01mNone\u001b[39;00m:\n\u001b[1;32m--> 497\u001b[0m     outputs \u001b[38;5;241m=\u001b[39m \u001b[43mexecute\u001b[49m\u001b[38;5;241;43m.\u001b[39;49m\u001b[43mexecute\u001b[49m\u001b[43m(\u001b[49m\n\u001b[0;32m    498\u001b[0m \u001b[43m        \u001b[49m\u001b[38;5;28;43mstr\u001b[39;49m\u001b[43m(\u001b[49m\u001b[38;5;28;43mself\u001b[39;49m\u001b[38;5;241;43m.\u001b[39;49m\u001b[43msignature\u001b[49m\u001b[38;5;241;43m.\u001b[39;49m\u001b[43mname\u001b[49m\u001b[43m)\u001b[49m\u001b[43m,\u001b[49m\n\u001b[0;32m    499\u001b[0m \u001b[43m        \u001b[49m\u001b[43mnum_outputs\u001b[49m\u001b[38;5;241;43m=\u001b[39;49m\u001b[38;5;28;43mself\u001b[39;49m\u001b[38;5;241;43m.\u001b[39;49m\u001b[43m_num_outputs\u001b[49m\u001b[43m,\u001b[49m\n\u001b[0;32m    500\u001b[0m \u001b[43m        \u001b[49m\u001b[43minputs\u001b[49m\u001b[38;5;241;43m=\u001b[39;49m\u001b[43margs\u001b[49m\u001b[43m,\u001b[49m\n\u001b[0;32m    501\u001b[0m \u001b[43m        \u001b[49m\u001b[43mattrs\u001b[49m\u001b[38;5;241;43m=\u001b[39;49m\u001b[43mattrs\u001b[49m\u001b[43m,\u001b[49m\n\u001b[0;32m    502\u001b[0m \u001b[43m        \u001b[49m\u001b[43mctx\u001b[49m\u001b[38;5;241;43m=\u001b[39;49m\u001b[43mctx\u001b[49m\u001b[43m)\u001b[49m\n\u001b[0;32m    503\u001b[0m   \u001b[38;5;28;01melse\u001b[39;00m:\n\u001b[0;32m    504\u001b[0m     outputs \u001b[38;5;241m=\u001b[39m execute\u001b[38;5;241m.\u001b[39mexecute_with_cancellation(\n\u001b[0;32m    505\u001b[0m         \u001b[38;5;28mstr\u001b[39m(\u001b[38;5;28mself\u001b[39m\u001b[38;5;241m.\u001b[39msignature\u001b[38;5;241m.\u001b[39mname),\n\u001b[0;32m    506\u001b[0m         num_outputs\u001b[38;5;241m=\u001b[39m\u001b[38;5;28mself\u001b[39m\u001b[38;5;241m.\u001b[39m_num_outputs,\n\u001b[1;32m   (...)\u001b[0m\n\u001b[0;32m    509\u001b[0m         ctx\u001b[38;5;241m=\u001b[39mctx,\n\u001b[0;32m    510\u001b[0m         cancellation_manager\u001b[38;5;241m=\u001b[39mcancellation_manager)\n",
      "File \u001b[1;32m~\\miniconda3\\envs\\tf\\lib\\site-packages\\tensorflow\\python\\eager\\execute.py:54\u001b[0m, in \u001b[0;36mquick_execute\u001b[1;34m(op_name, num_outputs, inputs, attrs, ctx, name)\u001b[0m\n\u001b[0;32m     52\u001b[0m \u001b[38;5;28;01mtry\u001b[39;00m:\n\u001b[0;32m     53\u001b[0m   ctx\u001b[38;5;241m.\u001b[39mensure_initialized()\n\u001b[1;32m---> 54\u001b[0m   tensors \u001b[38;5;241m=\u001b[39m \u001b[43mpywrap_tfe\u001b[49m\u001b[38;5;241;43m.\u001b[39;49m\u001b[43mTFE_Py_Execute\u001b[49m\u001b[43m(\u001b[49m\u001b[43mctx\u001b[49m\u001b[38;5;241;43m.\u001b[39;49m\u001b[43m_handle\u001b[49m\u001b[43m,\u001b[49m\u001b[43m \u001b[49m\u001b[43mdevice_name\u001b[49m\u001b[43m,\u001b[49m\u001b[43m \u001b[49m\u001b[43mop_name\u001b[49m\u001b[43m,\u001b[49m\n\u001b[0;32m     55\u001b[0m \u001b[43m                                      \u001b[49m\u001b[43minputs\u001b[49m\u001b[43m,\u001b[49m\u001b[43m \u001b[49m\u001b[43mattrs\u001b[49m\u001b[43m,\u001b[49m\u001b[43m \u001b[49m\u001b[43mnum_outputs\u001b[49m\u001b[43m)\u001b[49m\n\u001b[0;32m     56\u001b[0m \u001b[38;5;28;01mexcept\u001b[39;00m core\u001b[38;5;241m.\u001b[39m_NotOkStatusException \u001b[38;5;28;01mas\u001b[39;00m e:\n\u001b[0;32m     57\u001b[0m   \u001b[38;5;28;01mif\u001b[39;00m name \u001b[38;5;129;01mis\u001b[39;00m \u001b[38;5;129;01mnot\u001b[39;00m \u001b[38;5;28;01mNone\u001b[39;00m:\n",
      "\u001b[1;31mKeyboardInterrupt\u001b[0m: "
     ]
    }
   ],
   "source": [
    "#train model\n",
    "hist = model.fit(x, y, epochs=200, verbose=1, batch_size=64, shuffle=False, validation_split=0.1)\n",
    "model.save(MODEL_NAME + \".h5\")\n",
    "\n",
    "plt.title(\"loss\")\n",
    "plt.plot(hist.history['loss'], label='loss')\n",
    "plt.plot(hist.history['val_loss'], label='val_loss')\n",
    "plt.show()\n",
    "\n",
    "plt.title(\"accuracy\")\n",
    "plt.plot(hist.history['accuracy'])\n",
    "plt.plot(hist.history['val_accuracy'])\n",
    "plt.show()"
   ]
  },
  {
   "cell_type": "code",
   "execution_count": 33,
   "id": "7fe81f47",
   "metadata": {
    "ExecuteTime": {
     "end_time": "2022-06-13T18:47:00.438224Z",
     "start_time": "2022-06-13T18:46:45.820152Z"
    }
   },
   "outputs": [
    {
     "name": "stdout",
     "output_type": "stream",
     "text": [
      "Enter first 5 words...hello there\n"
     ]
    },
    {
     "data": {
      "application/vnd.jupyter.widget-view+json": {
       "model_id": "d8163c35585a454c938b0379c93c491b",
       "version_major": 2,
       "version_minor": 0
      },
      "text/plain": [
       "HBox(children=(HTML(value=''), FloatProgress(value=0.0, max=200.0), HTML(value='')))"
      ]
     },
     "metadata": {},
     "output_type": "display_data"
    },
    {
     "name": "stdout",
     "output_type": "stream",
     "text": [
      "\n",
      "hello there   \n",
      "  g_\"0 ?d ?yzmtw tz\n",
      "zz\n",
      "z?\n",
      "zz\n",
      "z?\n",
      "zz\n",
      "z?\n",
      "zz\n",
      "z?\n",
      "zz\n",
      "z?\n",
      "zz\n",
      "z?\n",
      "zz\n",
      "z?\n",
      "zz\n",
      "z?\n",
      "zz\n",
      "z?\n",
      "zz\n",
      "z?\n",
      "zz\n",
      "z?\n",
      "zz\n",
      "z?\n",
      "zz\n",
      "z?\n",
      "zz\n",
      "z?\n",
      "zz\n",
      "z?\n",
      "zz\n",
      "z?\n",
      "zz\n",
      "z?\n",
      "zz\n",
      "z?\n",
      "zz\n",
      "z?\n",
      "zz\n",
      "z?\n",
      "zz\n",
      "z?\n",
      "zz\n",
      "z?\n",
      "zz\n",
      "z?\n",
      "zz\n",
      "z?\n",
      "zz\n",
      "z?\n",
      "zz\n",
      "z?\n",
      "zz\n",
      "z?\n",
      "zz\n",
      "z?\n",
      "zz\n",
      "z?\n",
      "zz\n",
      "\n"
     ]
    }
   ],
   "source": [
    "#test model\n",
    "sample_length = 200\n",
    "model = load_model(\"Test.h5\")\n",
    "\n",
    "#get input sentence and process\n",
    "sentence = input(\"Enter first \" + str(SEQUENCE_LENGTH) + \" words...\").lower()\n",
    "\n",
    "root = [item for item in text]\n",
    "root = normalize(root)\n",
    "while len(root) < SEQUENCE_LENGTH:\n",
    "    root.insert(0, 1)\n",
    "\n",
    "while len(root) > SEQUENCE_LENGTH:\n",
    "    root.pop(0)\n",
    "\n",
    "output = sentence + \" \"\n",
    "for i in log_progress(range(sample_length)):\n",
    "    tmp = np.array(root)\n",
    "    tmp = np.reshape(tmp, (1, 1, SEQUENCE_LENGTH))\n",
    "    pred = model.predict(tmp, verbose=0)\n",
    "    next_word = pred.argmax()\n",
    "    #next_word = np.random.choice(len(pred[0]), p=pred[0])\n",
    "    output += words[next_word]\n",
    "    root.pop(0)\n",
    "    root.append(next_word) #setting the next word\n",
    "\n",
    "print(output)"
   ]
  },
  {
   "cell_type": "code",
   "execution_count": null,
   "id": "11cf38a5",
   "metadata": {},
   "outputs": [],
   "source": []
  }
 ],
 "metadata": {
  "kernelspec": {
   "display_name": "Python 3 (ipykernel)",
   "language": "python",
   "name": "python3"
  },
  "language_info": {
   "codemirror_mode": {
    "name": "ipython",
    "version": 3
   },
   "file_extension": ".py",
   "mimetype": "text/x-python",
   "name": "python",
   "nbconvert_exporter": "python",
   "pygments_lexer": "ipython3",
   "version": "3.9.12"
  }
 },
 "nbformat": 4,
 "nbformat_minor": 5
}
