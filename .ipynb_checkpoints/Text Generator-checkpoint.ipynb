{
 "cells": [
  {
   "cell_type": "code",
   "execution_count": 1,
   "id": "cd9e966d",
   "metadata": {
    "ExecuteTime": {
     "end_time": "2022-06-17T20:40:23.855676Z",
     "start_time": "2022-06-17T20:40:17.789311Z"
    }
   },
   "outputs": [],
   "source": [
    "import tensorflow.keras\n",
    "\n",
    "from tensorflow.keras.models import Sequential\n",
    "from tensorflow.keras.models import load_model\n",
    "from tensorflow.keras.layers import Dense\n",
    "from tensorflow.keras.layers import Embedding\n",
    "from tensorflow.keras.layers import LSTM\n",
    "from tensorflow.keras.layers import Dropout\n",
    "from tensorflow.keras.layers import InputLayer\n",
    "from tensorflow.keras.layers import BatchNormalization\n",
    "from tensorflow.keras.layers import TimeDistributed\n",
    "\n",
    "from tensorflow.keras.optimizers import Adam\n",
    "\n",
    "from tensorflow.keras.utils import to_categorical\n",
    "\n",
    "import numpy as np\n",
    "import nltk\n",
    "from nltk.tokenize import RegexpTokenizer\n",
    "import matplotlib.pyplot as plt\n",
    "import random\n",
    "\n",
    "from tqdm.notebook import tqdm as log_progress"
   ]
  },
  {
   "cell_type": "code",
   "execution_count": 8,
   "id": "6d8fb133",
   "metadata": {
    "ExecuteTime": {
     "end_time": "2022-06-17T20:59:26.904190Z",
     "start_time": "2022-06-17T20:59:05.013600Z"
    }
   },
   "outputs": [
    {
     "name": "stdout",
     "output_type": "stream",
     "text": [
      "Loading data...\n"
     ]
    },
    {
     "data": {
      "application/vnd.jupyter.widget-view+json": {
       "model_id": "c6a432e0fe164a949ba1df4c27d02071",
       "version_major": 2,
       "version_minor": 0
      },
      "text/plain": [
       "0it [00:00, ?it/s]"
      ]
     },
     "metadata": {},
     "output_type": "display_data"
    },
    {
     "name": "stdout",
     "output_type": "stream",
     "text": [
      "Tokenizing...\n"
     ]
    },
    {
     "data": {
      "application/vnd.jupyter.widget-view+json": {
       "model_id": "d3d9223009bf44a5a08cab6f2abebf51",
       "version_major": 2,
       "version_minor": 0
      },
      "text/plain": [
       "  0%|          | 0/7247 [00:00<?, ?it/s]"
      ]
     },
     "metadata": {},
     "output_type": "display_data"
    },
    {
     "name": "stdout",
     "output_type": "stream",
     "text": [
      "Finding every unique word...\n"
     ]
    },
    {
     "data": {
      "application/vnd.jupyter.widget-view+json": {
       "model_id": "35c771eb22174121b8a72ede2f8610c4",
       "version_major": 2,
       "version_minor": 0
      },
      "text/plain": [
       "  0%|          | 0/1501786 [00:00<?, ?it/s]"
      ]
     },
     "metadata": {},
     "output_type": "display_data"
    },
    {
     "name": "stdout",
     "output_type": "stream",
     "text": [
      "Compiling dataset...\n"
     ]
    },
    {
     "data": {
      "application/vnd.jupyter.widget-view+json": {
       "model_id": "c448677a9f9243089180a8f6261b0916",
       "version_major": 2,
       "version_minor": 0
      },
      "text/plain": [
       "  0%|          | 0/1501769 [00:00<?, ?it/s]"
      ]
     },
     "metadata": {},
     "output_type": "display_data"
    },
    {
     "name": "stdout",
     "output_type": "stream",
     "text": [
      "(1501769, 17, 1)\n",
      "(1501769, 83)\n"
     ]
    }
   ],
   "source": [
    "#load and clean data\n",
    "#MODEL_NAME = \"Test\"\n",
    "MODEL_NAME = 'shakespear2.0'\n",
    "data_file_name = \"aim-high.epub.txt\"\n",
    "SEQUENCE_LENGTH = 17 #how many items are fed into the ai per sequence\n",
    "\n",
    "raw = open(\"data/\" + data_file_name, \"r\", encoding='utf-8')\n",
    "\n",
    "lines = []\n",
    "print(\"Loading data...\")\n",
    "for line in log_progress(raw):\n",
    "    if str(line) != '\\n':\n",
    "        lines.append(str(line))\n",
    "\n",
    "print(\"Tokenizing...\")\n",
    "#putting the entirety of the input data into one string\n",
    "text = \"\"\n",
    "for line in log_progress(lines):\n",
    "    text += line\n",
    "#tokenizer = RegexpTokenizer(r'[a-zA-Z]')\n",
    "tokenizer = RegexpTokenizer(r'\\w+')\n",
    "#tokenized = tokenizer.tokenize(text)\n",
    "tokenized = [item for item in text]\n",
    "\n",
    "#converting the text into numbers to be processed by the embedding layer of the model\n",
    "words = [] #one of each word in tokenized will be in here\n",
    "filtering = lambda x : not x in words #for finding if the word should be added to the words array\n",
    "find = lambda x : float(words.index(x)) if x in words else float(len(words)) #convert each word into a number. -1 means that the item isn't in the vocabulary\n",
    "normalize = lambda x: [find(i)/len(words) for i in x]\n",
    "\n",
    "def convert_to_array(word_arr):\n",
    "    out = []\n",
    "    for i in range(len(word_arr)):\n",
    "        arr = [0] * (len(words)+1)\n",
    "        arr[i] = 1\n",
    "        out.append(arr)\n",
    "    return out\n",
    "    \n",
    "print(\"Finding every unique word...\")\n",
    "for word in log_progress(tokenized):\n",
    "    if filtering(word):\n",
    "        words.append(word)\n",
    "\n",
    "#x data is every single word in the data set, in order\n",
    "#y data is every single word that comes after the corresponding x value\n",
    "x = []\n",
    "y = []\n",
    "print(\"Compiling dataset...\")\n",
    "for i in log_progress(range(int(len(tokenized) - SEQUENCE_LENGTH))):\n",
    "    #x.append(convert_to_array(tokenized[i:i+SEQUENCE_LENGTH]))\n",
    "    \n",
    "    x.append(normalize(tokenized[i:i+SEQUENCE_LENGTH]))\n",
    "    y.append(find(tokenized[i+SEQUENCE_LENGTH]))\n",
    "\n",
    "x = np.asarray(x, np.float32)\n",
    "y = np.asarray(y, np.float32)\n",
    "\n",
    "x = np.reshape(x, (x.shape[0], SEQUENCE_LENGTH, 1))\n",
    "y = to_categorical(y)\n",
    "\n",
    "print(x.shape)\n",
    "print(y.shape)\n",
    "\n",
    "vocab_size = len(words)"
   ]
  },
  {
   "cell_type": "code",
   "execution_count": 16,
   "id": "a91298ab",
   "metadata": {
    "ExecuteTime": {
     "end_time": "2022-06-18T02:55:41.290923Z",
     "start_time": "2022-06-18T02:55:40.869367Z"
    }
   },
   "outputs": [
    {
     "name": "stdout",
     "output_type": "stream",
     "text": [
      "Model: \"sequential_1\"\n",
      "_________________________________________________________________\n",
      " Layer (type)                Output Shape              Param #   \n",
      "=================================================================\n",
      " lstm_2 (LSTM)               (None, 17, 300)           362400    \n",
      "                                                                 \n",
      " dropout_2 (Dropout)         (None, 17, 300)           0         \n",
      "                                                                 \n",
      " lstm_3 (LSTM)               (None, 256)               570368    \n",
      "                                                                 \n",
      " dropout_3 (Dropout)         (None, 256)               0         \n",
      "                                                                 \n",
      " dense_1 (Dense)             (None, 83)                21331     \n",
      "                                                                 \n",
      "=================================================================\n",
      "Total params: 954,099\n",
      "Trainable params: 954,099\n",
      "Non-trainable params: 0\n",
      "_________________________________________________________________\n",
      "None\n"
     ]
    }
   ],
   "source": [
    "#create and compile model\n",
    "model = Sequential()\n",
    "\n",
    "model.add(LSTM(300, input_shape=(SEQUENCE_LENGTH, 1), return_sequences=True))\n",
    "model.add(Dropout(0.3))\n",
    "\n",
    "model.add(LSTM(256))\n",
    "model.add(Dropout(0.3))\n",
    "\n",
    "model.add(Dense(y.shape[1], activation='softmax'))\n",
    "\n",
    "opt = Adam(learning_rate=0.001)\n",
    "model.compile(optimizer=opt, loss='categorical_crossentropy')\n",
    "print(model.summary())"
   ]
  },
  {
   "cell_type": "code",
   "execution_count": 18,
   "id": "3f438c67",
   "metadata": {
    "ExecuteTime": {
     "end_time": "2022-06-18T03:20:43.493629Z",
     "start_time": "2022-06-18T03:14:23.233200Z"
    },
    "scrolled": true
   },
   "outputs": [
    {
     "name": "stdout",
     "output_type": "stream",
     "text": [
      "Epoch 1/2\n",
      "21119/21119 [==============================] - 192s 9ms/step - loss: 1.4114 - val_loss: 1.3984\n",
      "Epoch 2/2\n",
      "21119/21119 [==============================] - 188s 9ms/step - loss: 1.3840 - val_loss: 1.3712\n"
     ]
    },
    {
     "data": {
      "image/png": "[encoded data removed]",
      "text/plain": [
       "<Figure size 432x288 with 1 Axes>"
      ]
     },
     "metadata": {
      "needs_background": "light"
     },
     "output_type": "display_data"
    }
   ],
   "source": [
    "#train model\n",
    "hist = model.fit(x, y, epochs=2, verbose=1, batch_size=64, validation_split=0.1)\n",
    "model.save(MODEL_NAME + \".h5\")\n",
    "\n",
    "plt.title(\"loss\")\n",
    "plt.plot(hist.history['loss'], label='loss')\n",
    "plt.plot(hist.history['val_loss'], label='val_loss')\n",
    "plt.show()"
   ]
  },
  {
   "cell_type": "code",
   "execution_count": 19,
   "id": "7fe81f47",
   "metadata": {
    "ExecuteTime": {
     "end_time": "2022-06-18T03:21:24.637036Z",
     "start_time": "2022-06-18T03:21:11.542428Z"
    }
   },
   "outputs": [
    {
     "name": "stdout",
     "output_type": "stream",
     "text": [
      "Enter first 17 letters... this is one big test\n"
     ]
    },
    {
     "data": {
      "application/vnd.jupyter.widget-view+json": {
       "model_id": "4eac8c9325054e51b49023c36e17cf01",
       "version_major": 2,
       "version_minor": 0
      },
      "text/plain": [
       "  0%|          | 0/200 [00:00<?, ?it/s]"
      ]
     },
     "metadata": {},
     "output_type": "display_data"
    },
    {
     "name": "stdout",
     "output_type": "stream",
     "text": [
      "this is one big testare dshnn inn overr etiemsot  on ote  on at  anroeert  an ote  on at  anroeert  an ote  on at  anroeert  an ote  on at  anroeert  an ote  on at  anroeert  an ote  on at  anroeert  an ote  on at  anroe\n"
     ]
    }
   ],
   "source": [
    "#test model\n",
    "sample_length = 200\n",
    "model = load_model(\"shakespear2.0.h5\")\n",
    "\n",
    "#get input sentence and process\n",
    "sentence = input(\"Enter first \" + str(SEQUENCE_LENGTH) + \" letters... \").lower()\n",
    "\n",
    "def process(data):\n",
    "    output = normalize([data])\n",
    "    output = np.asarray(output, np.float32)\n",
    "    output = np.reshape(output, (output.shape[0], 1, SEQUENCE_LENGTH))\n",
    "    return output\n",
    "\n",
    "tokenized = [item for item in sentence]\n",
    "root = []\n",
    "if len(tokenized) <= SEQUENCE_LENGTH:\n",
    "    print(\"Input text isn't long enough!\")\n",
    "    while True:\n",
    "        pass\n",
    "    \n",
    "for i in range(int(len(tokenized) - SEQUENCE_LENGTH)):\n",
    "    root.append(normalize(tokenized[i:i+SEQUENCE_LENGTH]))\n",
    "root = np.asarray(root, np.float32)\n",
    "root = np.reshape(root, (root.shape[0], SEQUENCE_LENGTH, 1))\n",
    "\n",
    "last_input = root[root.shape[0]-1]\n",
    "\n",
    "output = sentence\n",
    "pred = model.predict(root, verbose=0)\n",
    "sequence = sentence[len(output)-SEQUENCE_LENGTH-2:len(output)-1]\n",
    "\n",
    "for i in log_progress(range(sample_length)):\n",
    "    tokenized = [item for item in sequence]\n",
    "    \n",
    "    root = []\n",
    "    for i in range(int(len(tokenized) - SEQUENCE_LENGTH)):\n",
    "        root.append(normalize(tokenized[i:i+SEQUENCE_LENGTH]))\n",
    "    root = np.asarray(root, np.float32)\n",
    "    root = np.reshape(root, (root.shape[0], SEQUENCE_LENGTH, 1))\n",
    "    \n",
    "    tmp = root[root.shape[0]-1]\n",
    "    tmp = np.reshape(tmp, (1, SEQUENCE_LENGTH, 1))\n",
    "    \n",
    "    \n",
    "    pred = model.predict(tmp, verbose=0)\n",
    "    #output += words[np.random.choice(len(pred[pred.shape[0]-1]), p=pred[pred.shape[0]-1])]\n",
    "    sequence = sequence[1:]\n",
    "    sequence += words[pred.argmax()]\n",
    "    output += words[pred.argmax()]\n",
    "\n",
    "print(output)"
   ]
  },
  {
   "cell_type": "code",
   "execution_count": null,
   "id": "11cf38a5",
   "metadata": {},
   "outputs": [],
   "source": [
    "output = sentence + \" \"\n",
    "for i in log_progress(range(sample_length)):\n",
    "    tmp = np.array(root)\n",
    "    tmp = np.reshape(tmp, (1, 1, SEQUENCE_LENGTH))\n",
    "    pred = model.predict(tmp, verbose=0)\n",
    "    next_word = pred.argmax()\n",
    "    #next_word = np.random.choice(len(pred[0]), p=pred[0])\n",
    "    output += words[next_word]\n",
    "    root.pop(0)\n",
    "    root.append(next_word) #setting the next word\n",
    "'np.argmax(model.predict(x), axis=-1)'"
   ]
  }
 ],
 "metadata": {
  "kernelspec": {
   "display_name": "Python 3 (ipykernel)",
   "language": "python",
   "name": "python3"
  },
  "language_info": {
   "codemirror_mode": {
    "name": "ipython",
    "version": 3
   },
   "file_extension": ".py",
   "mimetype": "text/x-python",
   "name": "python",
   "nbconvert_exporter": "python",
   "pygments_lexer": "ipython3",
   "version": "3.9.12"
  }
 },
 "nbformat": 4,
 "nbformat_minor": 5
}
