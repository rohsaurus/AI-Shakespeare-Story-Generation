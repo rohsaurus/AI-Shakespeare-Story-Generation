{
 "cells": [
  {
   "cell_type": "markdown",
   "metadata": {},
   "source": [
    "AI Story Generation based off of Shakespeare's works!\n",
    "Dataset: https://www.kaggle.com/datasets/saarthaksangam/shakespeare"
   ]
  },
  {
   "cell_type": "markdown",
   "metadata": {},
   "source": []
  }
 ],
 "metadata": {
  "language_info": {
   "name": "python"
  },
  "orig_nbformat": 4
 },
 "nbformat": 4,
 "nbformat_minor": 2
}
