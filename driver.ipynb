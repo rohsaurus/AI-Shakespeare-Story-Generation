{
 "cells": [
  {
   "cell_type": "code",
   "execution_count": 1,
   "metadata": {},
   "outputs": [],
   "source": [
    "import tensorflow.keras\n",
    "\n",
    "from tensorflow.keras.models import Sequential\n",
    "from tensorflow.keras.models import load_model\n",
    "from tensorflow.keras.layers import Dense\n",
    "from tensorflow.keras.layers import Embedding\n",
    "from tensorflow.keras.layers import LSTM\n",
    "from tensorflow.keras.layers import Dropout\n",
    "from tensorflow.keras.layers import InputLayer\n",
    "\n",
    "from tensorflow.keras.optimizers import Adam\n",
    "\n",
    "from tensorflow.keras.utils import to_categorical\n",
    "\n",
    "import numpy as np\n",
    "import nltk\n",
    "from nltk.tokenize import RegexpTokenizer\n",
    "import matplotlib.pyplot as plt\n",
    "import random\n",
    "\n",
    "from tqdm.notebook import tqdm as log_progress"
   ]
  },
  {
   "cell_type": "code",
   "execution_count": 2,
   "metadata": {},
   "outputs": [
    {
     "name": "stderr",
     "output_type": "stream",
     "text": [
      "2022-06-10 15:40:50.725905: I tensorflow/core/platform/cpu_feature_guard.cc:151] This TensorFlow binary is optimized with oneAPI Deep Neural Network Library (oneDNN) to use the following CPU instructions in performance-critical operations:  SSE4.1 SSE4.2 AVX AVX2 AVX512F FMA\n",
      "To enable them in other operations, rebuild TensorFlow with the appropriate compiler flags.\n"
     ]
    },
    {
     "ename": "NameError",
     "evalue": "name 'find' is not defined",
     "output_type": "error",
     "traceback": [
      "\u001b[0;31m---------------------------------------------------------------------------\u001b[0m",
      "\u001b[0;31mNameError\u001b[0m                                 Traceback (most recent call last)",
      "\u001b[1;32m/workspaces/AI-Shakespeare-Story-Generation/driver.ipynb Cell 2'\u001b[0m in \u001b[0;36m<cell line: 9>\u001b[0;34m()\u001b[0m\n\u001b[1;32m      <a href='vscode-notebook-cell://codespaces%2Brohsaurus-ai-shakespeare-story-generation-v45q6w6jf9wj/workspaces/AI-Shakespeare-Story-Generation/driver.ipynb#ch0000000vscode-remote?line=6'>7</a>\u001b[0m tokenizer \u001b[39m=\u001b[39m RegexpTokenizer(\u001b[39mr\u001b[39m\u001b[39m'\u001b[39m\u001b[39m\\\u001b[39m\u001b[39mw+\u001b[39m\u001b[39m'\u001b[39m)\n\u001b[1;32m      <a href='vscode-notebook-cell://codespaces%2Brohsaurus-ai-shakespeare-story-generation-v45q6w6jf9wj/workspaces/AI-Shakespeare-Story-Generation/driver.ipynb#ch0000000vscode-remote?line=7'>8</a>\u001b[0m root \u001b[39m=\u001b[39m tokenizer\u001b[39m.\u001b[39mtokenize(sentence)\n\u001b[0;32m----> <a href='vscode-notebook-cell://codespaces%2Brohsaurus-ai-shakespeare-story-generation-v45q6w6jf9wj/workspaces/AI-Shakespeare-Story-Generation/driver.ipynb#ch0000000vscode-remote?line=8'>9</a>\u001b[0m root \u001b[39m=\u001b[39m [find(root[i]) \u001b[39mfor\u001b[39;00m i \u001b[39min\u001b[39;00m \u001b[39mrange\u001b[39m(\u001b[39mlen\u001b[39m(root))]\n\u001b[1;32m     <a href='vscode-notebook-cell://codespaces%2Brohsaurus-ai-shakespeare-story-generation-v45q6w6jf9wj/workspaces/AI-Shakespeare-Story-Generation/driver.ipynb#ch0000000vscode-remote?line=10'>11</a>\u001b[0m output \u001b[39m=\u001b[39m sentence \u001b[39m+\u001b[39m \u001b[39m\"\u001b[39m\u001b[39m \u001b[39m\u001b[39m\"\u001b[39m\n\u001b[1;32m     <a href='vscode-notebook-cell://codespaces%2Brohsaurus-ai-shakespeare-story-generation-v45q6w6jf9wj/workspaces/AI-Shakespeare-Story-Generation/driver.ipynb#ch0000000vscode-remote?line=12'>13</a>\u001b[0m \u001b[39mfor\u001b[39;00m i \u001b[39min\u001b[39;00m log_progress(\u001b[39mrange\u001b[39m(sample_length)):\n",
      "\u001b[1;32m/workspaces/AI-Shakespeare-Story-Generation/driver.ipynb Cell 2'\u001b[0m in \u001b[0;36m<listcomp>\u001b[0;34m(.0)\u001b[0m\n\u001b[1;32m      <a href='vscode-notebook-cell://codespaces%2Brohsaurus-ai-shakespeare-story-generation-v45q6w6jf9wj/workspaces/AI-Shakespeare-Story-Generation/driver.ipynb#ch0000000vscode-remote?line=6'>7</a>\u001b[0m tokenizer \u001b[39m=\u001b[39m RegexpTokenizer(\u001b[39mr\u001b[39m\u001b[39m'\u001b[39m\u001b[39m\\\u001b[39m\u001b[39mw+\u001b[39m\u001b[39m'\u001b[39m)\n\u001b[1;32m      <a href='vscode-notebook-cell://codespaces%2Brohsaurus-ai-shakespeare-story-generation-v45q6w6jf9wj/workspaces/AI-Shakespeare-Story-Generation/driver.ipynb#ch0000000vscode-remote?line=7'>8</a>\u001b[0m root \u001b[39m=\u001b[39m tokenizer\u001b[39m.\u001b[39mtokenize(sentence)\n\u001b[0;32m----> <a href='vscode-notebook-cell://codespaces%2Brohsaurus-ai-shakespeare-story-generation-v45q6w6jf9wj/workspaces/AI-Shakespeare-Story-Generation/driver.ipynb#ch0000000vscode-remote?line=8'>9</a>\u001b[0m root \u001b[39m=\u001b[39m [find(root[i]) \u001b[39mfor\u001b[39;00m i \u001b[39min\u001b[39;00m \u001b[39mrange\u001b[39m(\u001b[39mlen\u001b[39m(root))]\n\u001b[1;32m     <a href='vscode-notebook-cell://codespaces%2Brohsaurus-ai-shakespeare-story-generation-v45q6w6jf9wj/workspaces/AI-Shakespeare-Story-Generation/driver.ipynb#ch0000000vscode-remote?line=10'>11</a>\u001b[0m output \u001b[39m=\u001b[39m sentence \u001b[39m+\u001b[39m \u001b[39m\"\u001b[39m\u001b[39m \u001b[39m\u001b[39m\"\u001b[39m\n\u001b[1;32m     <a href='vscode-notebook-cell://codespaces%2Brohsaurus-ai-shakespeare-story-generation-v45q6w6jf9wj/workspaces/AI-Shakespeare-Story-Generation/driver.ipynb#ch0000000vscode-remote?line=12'>13</a>\u001b[0m \u001b[39mfor\u001b[39;00m i \u001b[39min\u001b[39;00m log_progress(\u001b[39mrange\u001b[39m(sample_length)):\n",
      "\u001b[0;31mNameError\u001b[0m: name 'find' is not defined"
     ]
    }
   ],
   "source": [
    "#test model\n",
    "sample_length = 100\n",
    "model = load_model(\"Test.h5\")\n",
    "\n",
    "#get input sentence and process\n",
    "sentence = input(\"Enter first 10 words...\").lower()\n",
    "tokenizer = RegexpTokenizer(r'\\w+')\n",
    "root = tokenizer.tokenize(sentence)\n",
    "root = [find(root[i]) for i in range(len(root))]\n",
    "\n",
    "output = sentence + \" \"\n",
    "\n",
    "for i in log_progress(range(sample_length)):\n",
    "    tmp = np.array(root)\n",
    "    tmp = np.reshape(tmp, (1, SEQUENCE_LENGTH, 1))\n",
    "    pred = model.predict(tmp, verbose=0)\n",
    "    next_word = pred.argmax()\n",
    "    #next_word = np.random.choice(len(pred[0]), p=pred[0])\n",
    "    output += words[next_word] + \" \"\n",
    "    root.pop(0)\n",
    "    root.append(next_word) #setting the next word\n",
    "\n",
    "print(output)"
   ]
  }
 ],
 "metadata": {
  "interpreter": {
   "hash": "d4d1e4263499bec80672ea0156c357c1ee493ec2b1c70f0acce89fc37c4a6abe"
  },
  "kernelspec": {
   "display_name": "Python 3.10.4 ('base')",
   "language": "python",
   "name": "python3"
  },
  "language_info": {
   "codemirror_mode": {
    "name": "ipython",
    "version": 3
   },
   "file_extension": ".py",
   "mimetype": "text/x-python",
   "name": "python",
   "nbconvert_exporter": "python",
   "pygments_lexer": "ipython3",
   "version": "3.10.4"
  },
  "orig_nbformat": 4
 },
 "nbformat": 4,
 "nbformat_minor": 2
}
